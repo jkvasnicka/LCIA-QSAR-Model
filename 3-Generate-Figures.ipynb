{
 "cells": [
  {
   "cell_type": "markdown",
   "id": "053b295b",
   "metadata": {},
   "source": [
    "# Analyze Final Models: LCIA QSAR Study\n",
    "**Date:** June 2, 2023 <br>"
   ]
  },
  {
   "cell_type": "code",
   "execution_count": 1,
   "id": "04fb1ce9",
   "metadata": {},
   "outputs": [],
   "source": [
    "import matplotlib\n",
    "matplotlib.use('Agg')  # avoids rendering figures\n",
    "\n",
    "from plotting import (\n",
    "    benchmarking,\n",
    "    chemical_coverage,\n",
    "    feature_completeness,\n",
    "    feature_distributions,\n",
    "    importance_scores,\n",
    "    important_features,\n",
    "    missing_features,\n",
    "    model_performance,\n",
    "    moe,\n",
    "    pod,\n",
    "    sensitivity_analysis\n",
    ")\n",
    "\n",
    "from config_management import UnifiedConfiguration\n",
    "from data_management import DataManager\n",
    "from metrics_management import MetricsManager\n",
    "from results_management import ResultsManager\n",
    "from results_analysis import ResultsAnalyzer\n",
    "\n",
    "config_mapping_path = 'Input\\Configuration\\configuration-mapping.json'\n",
    "config = UnifiedConfiguration(config_mapping_path)\n",
    "\n",
    "data_manager = DataManager(config.data, config.path)\n",
    "metrics_manager = MetricsManager(config.category_to_dict('metric'))\n",
    "results_manager = ResultsManager(\n",
    "    output_dir='Results',\n",
    "    results_file_type=config.data.file_type\n",
    ")\n",
    "results_analyzer = ResultsAnalyzer(\n",
    "    results_manager, \n",
    "    data_manager,\n",
    "    config.plot\n",
    ")"
   ]
  },
  {
   "cell_type": "code",
   "execution_count": 2,
   "id": "862c9c2a",
   "metadata": {},
   "outputs": [
    {
     "name": "stdout",
     "output_type": "stream",
     "text": [
      "Saving figure --> \"Figures\\feature_distributions\\feature-distributions.png\"\n"
     ]
    }
   ],
   "source": [
    "feature_distributions.feature_distributions(config.path.file_for_features_source['opera'])"
   ]
  },
  {
   "cell_type": "code",
   "execution_count": 3,
   "id": "ddf1cfc0",
   "metadata": {},
   "outputs": [
    {
     "name": "stdout",
     "output_type": "stream",
     "text": [
      "Saving figure --> \"Figures\\pairwise_scatters_and_kde_subplots\\all-opera-features-and-target-union.png\"\n"
     ]
    }
   ],
   "source": [
    "chemical_coverage.pairwise_scatters_and_kde_subplots(\n",
    "    config.path.file_for_features_source['opera'], \n",
    "    config.path.surrogate_pods_file,\n",
    "    config.plot\n",
    ")"
   ]
  },
  {
   "cell_type": "code",
   "execution_count": 4,
   "id": "1abbe9ef",
   "metadata": {
    "scrolled": false
   },
   "outputs": [
    {
     "name": "stderr",
     "output_type": "stream",
     "text": [
      "C:\\Users\\jkvas\\Repositories\\LCIA-QSAR-Model\\plotting\\feature_completeness.py:130: UserWarning: The figure layout has changed to tight\n",
      "  fig.tight_layout()\n"
     ]
    },
    {
     "name": "stdout",
     "output_type": "stream",
     "text": [
      "Saving figure --> \"Figures\\proportions_incomplete_subplot\\General-Noncancer-Reproductive-Developmental.png\"\n",
      "Saving figure --> \"Figures\\proportions_incomplete_subplot\\Application-Chemicals.png\"\n"
     ]
    },
    {
     "name": "stderr",
     "output_type": "stream",
     "text": [
      "C:\\Users\\jkvas\\Repositories\\LCIA-QSAR-Model\\plotting\\feature_completeness.py:130: UserWarning: The figure layout has changed to tight\n",
      "  fig.tight_layout()\n"
     ]
    }
   ],
   "source": [
    "feature_completeness.proportions_incomplete_subplots(\n",
    "    config.path.file_for_features_source['opera'], \n",
    "    config.path.opera_AD_file, \n",
    "    config.path.surrogate_pods_file,\n",
    "    config.plot,\n",
    "    threshold=config.preprocessor.settings['MissingValuesSelector']['kwargs']['threshold']\n",
    ")"
   ]
  },
  {
   "cell_type": "code",
   "execution_count": 5,
   "id": "f8e63680",
   "metadata": {
    "scrolled": false
   },
   "outputs": [
    {
     "name": "stdout",
     "output_type": "stream",
     "text": [
      "Saving figure --> \"Figures\\important_feature_counts\\opera-predicted-missing-true-RandomForestRegressor.png\"\n"
     ]
    }
   ],
   "source": [
    "important_features.important_feature_counts(results_analyzer, config.plot)"
   ]
  },
  {
   "cell_type": "code",
   "execution_count": 6,
   "id": "1ae8b598",
   "metadata": {
    "scrolled": false
   },
   "outputs": [
    {
     "name": "stdout",
     "output_type": "stream",
     "text": [
      "Saving figure --> \"Figures\\importances_boxplots\\general-opera-predicted-missing-true-RandomForestRegressor.png\"\n",
      "Saving figure --> \"Figures\\importances_boxplots\\repro_dev-opera-predicted-missing-true-RandomForestRegressor.png\"\n"
     ]
    }
   ],
   "source": [
    "importance_scores.importances_boxplots(results_analyzer, config.plot)"
   ]
  },
  {
   "cell_type": "code",
   "execution_count": 7,
   "id": "a0054d45",
   "metadata": {
    "scrolled": false
   },
   "outputs": [
    {
     "name": "stdout",
     "output_type": "stream",
     "text": [
      "Saving figure --> \"Figures\\importances_replicates_boxplots\\general-opera-predicted-missing-true-RandomForestRegressor.png\"\n",
      "Saving figure --> \"Figures\\importances_replicates_boxplots\\repro_dev-opera-predicted-missing-true-RandomForestRegressor.png\"\n"
     ]
    }
   ],
   "source": [
    "importance_scores.importances_replicates_boxplots(results_analyzer, config.plot)"
   ]
  },
  {
   "cell_type": "code",
   "execution_count": 2,
   "id": "b4290d14",
   "metadata": {
    "scrolled": false
   },
   "outputs": [
    {
     "name": "stderr",
     "output_type": "stream",
     "text": [
      "C:\\Users\\jkvas\\Repositories\\LCIA-QSAR-Model\\plotting\\model_performance.py:115: UserWarning: This figure includes Axes that are not compatible with tight_layout, so results might be incorrect.\n",
      "  gs1.tight_layout(fig, rect=[0, 0, 0.7, 1])\n",
      "C:\\Users\\jkvas\\Repositories\\LCIA-QSAR-Model\\plotting\\model_performance.py:116: UserWarning: This figure includes Axes that are not compatible with tight_layout, so results might be incorrect.\n",
      "  gs2.tight_layout(fig, rect=[0.7, 0, 1, 1], h_pad=0.5)\n"
     ]
    },
    {
     "name": "stdout",
     "output_type": "stream",
     "text": [
      "Saving figure --> \"Figures\\in_sample_performance_comparisons\\opera-predicted-missing-RandomForestRegressor.png\"\n",
      "Saving figure --> \"Figures\\out_of_sample_prediction_scatterplots\\opera-predicted-missing-RandomForestRegressor.png\"\n"
     ]
    }
   ],
   "source": [
    "model_performance.in_and_out_sample_comparisons(\n",
    "    results_analyzer, \n",
    "    config.plot, \n",
    "    metrics_manager.function_for_metric\n",
    ")"
   ]
  },
  {
   "cell_type": "code",
   "execution_count": 3,
   "id": "b8973ca1",
   "metadata": {},
   "outputs": [
    {
     "name": "stdout",
     "output_type": "stream",
     "text": [
      "Saving figure --> \"Figures\\benchmarking_scatterplots\\comptox-predicted-missing-false-RandomForestRegressor.png\"\n",
      "Saving figure --> \"Figures\\benchmarking_scatterplots\\opera-experimental-missing-false-RandomForestRegressor.png\"\n",
      "Saving figure --> \"Figures\\benchmarking_scatterplots\\opera-predicted-complete-false-RandomForestRegressor.png\"\n",
      "Saving figure --> \"Figures\\benchmarking_scatterplots\\opera-predicted-missing-false-GradientBoostingRegressor.png\"\n",
      "Saving figure --> \"Figures\\benchmarking_scatterplots\\opera-predicted-missing-false-LinearRegression.png\"\n",
      "Saving figure --> \"Figures\\benchmarking_scatterplots\\opera-predicted-missing-false-MLPRegressor.png\"\n",
      "Saving figure --> \"Figures\\benchmarking_scatterplots\\opera-predicted-missing-false-RandomForestRegressor.png\"\n",
      "Saving figure --> \"Figures\\benchmarking_scatterplots\\opera-predicted-missing-false-Ridge.png\"\n",
      "Saving figure --> \"Figures\\benchmarking_scatterplots\\opera-predicted-missing-false-SVR.png\"\n",
      "Saving figure --> \"Figures\\benchmarking_scatterplots\\opera-predicted-missing-false-XGBRegressor.png\"\n",
      "Saving figure --> \"Figures\\benchmarking_scatterplots\\opera-predicted-missing-true-RandomForestRegressor.png\"\n"
     ]
    }
   ],
   "source": [
    "benchmarking.benchmarking_scatterplots(\n",
    "    results_analyzer,\n",
    "    metrics_manager.function_for_metric,\n",
    "    config.plot\n",
    ")"
   ]
  },
  {
   "cell_type": "code",
   "execution_count": 4,
   "id": "7ab25188",
   "metadata": {
    "scrolled": false
   },
   "outputs": [
    {
     "name": "stdout",
     "output_type": "stream",
     "text": [
      "Saving figure --> \"Figures\\margins_of_exposure_cumulative\\comptox-predicted-missing-false-RandomForestRegressor.png\"\n",
      "Saving figure --> \"Figures\\margins_of_exposure_cumulative\\opera-experimental-missing-false-RandomForestRegressor.png\"\n",
      "Saving figure --> \"Figures\\margins_of_exposure_cumulative\\opera-predicted-complete-false-RandomForestRegressor.png\"\n",
      "Saving figure --> \"Figures\\margins_of_exposure_cumulative\\opera-predicted-missing-false-GradientBoostingRegressor.png\"\n",
      "Saving figure --> \"Figures\\margins_of_exposure_cumulative\\opera-predicted-missing-false-LinearRegression.png\"\n",
      "Saving figure --> \"Figures\\margins_of_exposure_cumulative\\opera-predicted-missing-false-MLPRegressor.png\"\n",
      "Saving figure --> \"Figures\\margins_of_exposure_cumulative\\opera-predicted-missing-false-RandomForestRegressor.png\"\n"
     ]
    },
    {
     "name": "stderr",
     "output_type": "stream",
     "text": [
      "C:\\Users\\jkvas\\Repositories\\LCIA-QSAR-Model\\plotting\\moe.py:72: RuntimeWarning: More than 20 figures have been opened. Figures created through the pyplot interface (`matplotlib.pyplot.figure`) are retained until explicitly closed and may consume too much memory. (To control this warning, see the rcParam `figure.max_open_warning`). Consider using `matplotlib.pyplot.close()`.\n",
      "  fig, axs = plt.subplots(\n"
     ]
    },
    {
     "name": "stdout",
     "output_type": "stream",
     "text": [
      "Saving figure --> \"Figures\\margins_of_exposure_cumulative\\opera-predicted-missing-false-Ridge.png\"\n",
      "Saving figure --> \"Figures\\margins_of_exposure_cumulative\\opera-predicted-missing-false-SVR.png\"\n",
      "Saving figure --> \"Figures\\margins_of_exposure_cumulative\\opera-predicted-missing-false-XGBRegressor.png\"\n",
      "Saving figure --> \"Figures\\margins_of_exposure_cumulative\\opera-predicted-missing-true-RandomForestRegressor.png\"\n"
     ]
    }
   ],
   "source": [
    "moe.margins_of_exposure_cumulative(\n",
    "    results_analyzer, \n",
    "    config.plot\n",
    ")"
   ]
  },
  {
   "cell_type": "code",
   "execution_count": 5,
   "id": "29784619",
   "metadata": {
    "scrolled": false
   },
   "outputs": [
    {
     "name": "stdout",
     "output_type": "stream",
     "text": [
      "Saving figure --> \"Figures\\cumulative_pod_distributions\\comptox-predicted-missing-false-RandomForestRegressor.png\"\n",
      "Saving figure --> \"Figures\\cumulative_pod_distributions\\opera-experimental-missing-false-RandomForestRegressor.png\"\n",
      "Saving figure --> \"Figures\\cumulative_pod_distributions\\opera-predicted-complete-false-RandomForestRegressor.png\"\n",
      "Saving figure --> \"Figures\\cumulative_pod_distributions\\opera-predicted-missing-false-GradientBoostingRegressor.png\"\n",
      "Saving figure --> \"Figures\\cumulative_pod_distributions\\opera-predicted-missing-false-LinearRegression.png\"\n",
      "Saving figure --> \"Figures\\cumulative_pod_distributions\\opera-predicted-missing-false-MLPRegressor.png\"\n",
      "Saving figure --> \"Figures\\cumulative_pod_distributions\\opera-predicted-missing-false-RandomForestRegressor.png\"\n",
      "Saving figure --> \"Figures\\cumulative_pod_distributions\\opera-predicted-missing-false-Ridge.png\"\n",
      "Saving figure --> \"Figures\\cumulative_pod_distributions\\opera-predicted-missing-false-SVR.png\"\n",
      "Saving figure --> \"Figures\\cumulative_pod_distributions\\opera-predicted-missing-false-XGBRegressor.png\"\n",
      "Saving figure --> \"Figures\\cumulative_pod_distributions\\opera-predicted-missing-true-RandomForestRegressor.png\"\n"
     ]
    }
   ],
   "source": [
    "pod.cumulative_pod_distributions(results_analyzer, config.plot)"
   ]
  },
  {
   "cell_type": "code",
   "execution_count": 6,
   "id": "fad0636c",
   "metadata": {
    "scrolled": false
   },
   "outputs": [
    {
     "name": "stdout",
     "output_type": "stream",
     "text": [
      "Saving figure --> \"Figures\\predictions_by_missing_feature\\comptox-predicted-missing-false-RandomForestRegressor.png\"\n",
      "Saving figure --> \"Figures\\predictions_by_missing_feature\\opera-experimental-missing-false-RandomForestRegressor.png\"\n",
      "Saving figure --> \"Figures\\predictions_by_missing_feature\\opera-predicted-complete-false-RandomForestRegressor.png\"\n",
      "Saving figure --> \"Figures\\predictions_by_missing_feature\\opera-predicted-missing-false-GradientBoostingRegressor.png\"\n",
      "Saving figure --> \"Figures\\predictions_by_missing_feature\\opera-predicted-missing-false-LinearRegression.png\"\n",
      "Saving figure --> \"Figures\\predictions_by_missing_feature\\opera-predicted-missing-false-MLPRegressor.png\"\n",
      "Saving figure --> \"Figures\\predictions_by_missing_feature\\opera-predicted-missing-false-RandomForestRegressor.png\"\n",
      "Saving figure --> \"Figures\\predictions_by_missing_feature\\opera-predicted-missing-false-Ridge.png\"\n",
      "Saving figure --> \"Figures\\predictions_by_missing_feature\\opera-predicted-missing-false-SVR.png\"\n",
      "Saving figure --> \"Figures\\predictions_by_missing_feature\\opera-predicted-missing-false-XGBRegressor.png\"\n",
      "Saving figure --> \"Figures\\predictions_by_missing_feature\\opera-predicted-missing-true-RandomForestRegressor.png\"\n"
     ]
    }
   ],
   "source": [
    "missing_features.predictions_by_missing_feature(results_analyzer, config.plot)"
   ]
  },
  {
   "cell_type": "code",
   "execution_count": 7,
   "id": "b62f993d",
   "metadata": {
    "scrolled": false
   },
   "outputs": [
    {
     "name": "stdout",
     "output_type": "stream",
     "text": [
      "Saving figure --> \"Figures\\sensitivity_analysis_boxplots\\performances-without-selection.png\"\n"
     ]
    }
   ],
   "source": [
    "sensitivity_analysis.sensitivity_analysis_boxplots(\n",
    "    results_manager, \n",
    "    data_manager,\n",
    "    config.plot\n",
    ")"
   ]
  },
  {
   "cell_type": "code",
   "execution_count": null,
   "id": "c6c1f2ec",
   "metadata": {},
   "outputs": [],
   "source": []
  }
 ],
 "metadata": {
  "kernelspec": {
   "display_name": "chiu-lab",
   "language": "python",
   "name": "chiu-lab"
  },
  "language_info": {
   "codemirror_mode": {
    "name": "ipython",
    "version": 3
   },
   "file_extension": ".py",
   "mimetype": "text/x-python",
   "name": "python",
   "nbconvert_exporter": "python",
   "pygments_lexer": "ipython3",
   "version": "3.11.0"
  }
 },
 "nbformat": 4,
 "nbformat_minor": 5
}
