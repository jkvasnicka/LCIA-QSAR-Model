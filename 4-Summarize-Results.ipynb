{
 "cells": [
  {
   "cell_type": "markdown",
   "id": "66daa3ed",
   "metadata": {},
   "source": [
    "# Results Analysis: LCIA QSAR Modeling Framework\n",
    "**Date:** August, 31, 2023 <br>\n",
    "**Author:** Jacob Kvasnicka"
   ]
  },
  {
   "cell_type": "code",
   "execution_count": 1,
   "id": "461709da",
   "metadata": {},
   "outputs": [],
   "source": [
    "import matplotlib\n",
    "# matplotlib.use('Agg')  # avoids rendering figures\n",
    "import matplotlib.pyplot as plt\n",
    "\n",
    "import pandas as pd\n",
    "import numpy as np\n",
    "\n",
    "from raw_processing import other_sources\n",
    "from config_management import UnifiedConfiguration\n",
    "from data_management import DataManager\n",
    "from metrics_management import MetricsManager\n",
    "from results_management import ResultsManager\n",
    "from results_analysis import ResultsAnalyzer\n",
    "from plotting.moe import MOE_CATEGORIES\n",
    "\n",
    "config_mapping_path = 'Input\\Configuration\\configuration-mapping.json'\n",
    "config = UnifiedConfiguration(config_mapping_path)\n",
    "\n",
    "data_manager = DataManager(config.data, config.path)\n",
    "metrics_manager = MetricsManager(config.category_to_dict('metric'))\n",
    "results_manager = ResultsManager(\n",
    "    output_dir='Results',\n",
    "    results_file_type=config.data.file_type\n",
    ")\n",
    "results_analyzer = ResultsAnalyzer(\n",
    "    results_manager, \n",
    "    data_manager\n",
    ")\n",
    "\n",
    "key_for_effect = {\n",
    "    'general' : {\n",
    "      \"target_effect\" : \"general\",\n",
    "      \"features_source\" : \"opera\",\n",
    "      \"ld50_type\" : \"predicted\",\n",
    "      \"data_condition\" : \"missing\",\n",
    "      \"select_features\" : \"true\",\n",
    "      \"estimators\" : \"RandomForestRegressor\"\n",
    "    },\n",
    "\n",
    "    'repro_dev' : {\n",
    "      \"target_effect\" : \"repro_dev\",\n",
    "      \"features_source\" : \"opera\",\n",
    "      \"ld50_type\" : \"predicted\",\n",
    "      \"data_condition\" : \"missing\",\n",
    "      \"select_features\" : \"true\",\n",
    "      \"estimators\" : \"RandomForestRegressor\"\n",
    "    }\n",
    "}\n",
    "\n",
    "def get_model_key(effect):\n",
    "    return tuple(key_for_effect[effect].values())\n",
    "\n",
    "percentiles = [0.05, 0.5, 0.95]"
   ]
  },
  {
   "cell_type": "markdown",
   "id": "7f0fdea9",
   "metadata": {},
   "source": [
    "## Dataset Characterization"
   ]
  },
  {
   "cell_type": "code",
   "execution_count": 2,
   "id": "a222fd76",
   "metadata": {},
   "outputs": [
    {
     "name": "stdout",
     "output_type": "stream",
     "text": [
      "5209 chemicals for non-reproductive/developmental effects\n",
      "4938 chemicals for reproductive/developmental effects\n"
     ]
    }
   ],
   "source": [
    "raw_surrogate_pods = other_sources.toxicity_data_and_study_counts_from_excel(\n",
    "    config.path.raw_surrogate_pods_file, \n",
    "    config.raw_data.tox_metric, \n",
    "    'dtxsid', \n",
    "    config.raw_data.surrogate_tox_data_kwargs\n",
    ")\n",
    "\n",
    "for effect in list(raw_surrogate_pods.columns.unique(level=0)):\n",
    "    N = len(raw_surrogate_pods[effect].dropna())\n",
    "    print(f'{N} chemicals for {effect}')"
   ]
  },
  {
   "cell_type": "code",
   "execution_count": 3,
   "id": "a7890bf7",
   "metadata": {},
   "outputs": [
    {
     "name": "stdout",
     "output_type": "stream",
     "text": [
      "2404 chemicals for general\n",
      "2999 chemicals for repro_dev\n"
     ]
    }
   ],
   "source": [
    "surrogate_pods = pd.read_csv(\n",
    "    config.path.surrogate_pods_file, \n",
    "    index_col=0\n",
    ")\n",
    "\n",
    "for effect, y in list(surrogate_pods.items()):\n",
    "    N = len(y.dropna())\n",
    "    print(f'{N} chemicals for {effect}')"
   ]
  },
  {
   "cell_type": "code",
   "execution_count": 4,
   "id": "6ed7478c",
   "metadata": {},
   "outputs": [
    {
     "name": "stdout",
     "output_type": "stream",
     "text": [
      "1791 chemicals for general\n",
      "2228 chemicals for repro_dev\n"
     ]
    }
   ],
   "source": [
    "for effect in surrogate_pods:    \n",
    "    _, y = results_analyzer.load_features_and_target(**key_for_effect[effect])\n",
    "    N = len(y)\n",
    "    print(f'{N} chemicals for {effect}')    "
   ]
  },
  {
   "cell_type": "code",
   "execution_count": 5,
   "id": "e7172be5",
   "metadata": {},
   "outputs": [
    {
     "name": "stdout",
     "output_type": "stream",
     "text": [
      "32524 application chemicals\n"
     ]
    }
   ],
   "source": [
    "application_chemicals = data_manager.load_application_chemicals()\n",
    "\n",
    "print(f'{len(application_chemicals)} application chemicals')"
   ]
  },
  {
   "cell_type": "code",
   "execution_count": 6,
   "id": "40aa2a31",
   "metadata": {},
   "outputs": [],
   "source": [
    "def percents_missing(X):\n",
    "    '''\n",
    "    Compute the percentages of samples with complete data for each feature.\n",
    "    '''\n",
    "    return ((X.isna().sum() / len(X)).sort_values(ascending=False).round(2) * 100).head()"
   ]
  },
  {
   "cell_type": "code",
   "execution_count": 7,
   "id": "2734258f",
   "metadata": {},
   "outputs": [
    {
     "data": {
      "text/plain": [
       "BioDeg_HalfLife_pred    72.0\n",
       "CACO2_pred              45.0\n",
       "OH_pred                 37.0\n",
       "Clint_pred              22.0\n",
       "KM_pred                 21.0\n",
       "dtype: float64"
      ]
     },
     "execution_count": 7,
     "metadata": {},
     "output_type": "execute_result"
    }
   ],
   "source": [
    "features_path = config.path.file_for_features_source['opera']\n",
    "\n",
    "X = pd.read_parquet(features_path)\n",
    "\n",
    "percents_missing(X)"
   ]
  },
  {
   "cell_type": "code",
   "execution_count": 8,
   "id": "41089f5b",
   "metadata": {},
   "outputs": [
    {
     "name": "stdout",
     "output_type": "stream",
     "text": [
      "general\n",
      "BioDeg_HalfLife_pred    74.0\n",
      "CACO2_pred              49.0\n",
      "OH_pred                 44.0\n",
      "KOA_pred                23.0\n",
      "KM_pred                 23.0\n",
      "dtype: float64\n",
      "repro_dev\n",
      "BioDeg_HalfLife_pred    75.0\n",
      "CACO2_pred              49.0\n",
      "OH_pred                 45.0\n",
      "KM_pred                 25.0\n",
      "Clint_pred              24.0\n",
      "dtype: float64\n"
     ]
    }
   ],
   "source": [
    "for effect in key_for_effect:\n",
    "    \n",
    "    print(effect)\n",
    "    \n",
    "    X, y = results_analyzer.load_features_and_target(**key_for_effect[effect])\n",
    "    \n",
    "    print(percents_missing(X))"
   ]
  },
  {
   "cell_type": "markdown",
   "id": "f8484deb",
   "metadata": {},
   "source": [
    "## Model Evaluation & Important Features"
   ]
  },
  {
   "cell_type": "code",
   "execution_count": 9,
   "id": "71a32eab",
   "metadata": {},
   "outputs": [],
   "source": [
    "def describe_result(effect, result_type):\n",
    "    '''\n",
    "    Return the summary statistics with confidence interval.\n",
    "    '''    \n",
    "    if 'importances' in result_type:\n",
    "        metrics = list(config.plot.label_for_scoring)\n",
    "    else: \n",
    "        metrics = list(config.plot.label_for_metric)\n",
    "        other_metric = 'mean_absolute_error'\n",
    "        if other_metric not in metrics:\n",
    "            metrics.append(other_metric)\n",
    "            \n",
    "    if 'root_mean_squared_error' in metrics:\n",
    "        metrics.append('gsd')\n",
    "        metrics.append('gsd_squared')\n",
    "        # Compute GSD squared.     \n",
    "        performances = results_analyzer.read_result(get_model_key(effect), result_type)\n",
    "        rmse = performances['root_mean_squared_error']\n",
    "        gsd = 10**rmse  # in natural units\n",
    "        performances['gsd'] = gsd\n",
    "        performances['gsd_squared'] = gsd**1.96\n",
    "\n",
    "    desc = performances.describe(percentiles=percentiles)[metrics].round(2)\n",
    "    \n",
    "    return desc.loc[[k for k in desc.index if '%' in k]].T"
   ]
  },
  {
   "cell_type": "code",
   "execution_count": 10,
   "id": "ca9eaf73",
   "metadata": {},
   "outputs": [
    {
     "data": {
      "text/html": [
       "<div>\n",
       "<style scoped>\n",
       "    .dataframe tbody tr th:only-of-type {\n",
       "        vertical-align: middle;\n",
       "    }\n",
       "\n",
       "    .dataframe tbody tr th {\n",
       "        vertical-align: top;\n",
       "    }\n",
       "\n",
       "    .dataframe thead th {\n",
       "        text-align: right;\n",
       "    }\n",
       "</style>\n",
       "<table border=\"1\" class=\"dataframe\">\n",
       "  <thead>\n",
       "    <tr style=\"text-align: right;\">\n",
       "      <th></th>\n",
       "      <th>5%</th>\n",
       "      <th>50%</th>\n",
       "      <th>95%</th>\n",
       "    </tr>\n",
       "    <tr>\n",
       "      <th>metric</th>\n",
       "      <th></th>\n",
       "      <th></th>\n",
       "      <th></th>\n",
       "    </tr>\n",
       "  </thead>\n",
       "  <tbody>\n",
       "    <tr>\n",
       "      <th>root_mean_squared_error</th>\n",
       "      <td>0.70</td>\n",
       "      <td>0.71</td>\n",
       "      <td>0.74</td>\n",
       "    </tr>\n",
       "    <tr>\n",
       "      <th>median_absolute_error</th>\n",
       "      <td>0.41</td>\n",
       "      <td>0.42</td>\n",
       "      <td>0.42</td>\n",
       "    </tr>\n",
       "    <tr>\n",
       "      <th>r2_score</th>\n",
       "      <td>0.41</td>\n",
       "      <td>0.44</td>\n",
       "      <td>0.47</td>\n",
       "    </tr>\n",
       "    <tr>\n",
       "      <th>mean_absolute_error</th>\n",
       "      <td>0.53</td>\n",
       "      <td>0.53</td>\n",
       "      <td>0.55</td>\n",
       "    </tr>\n",
       "    <tr>\n",
       "      <th>gsd</th>\n",
       "      <td>5.03</td>\n",
       "      <td>5.16</td>\n",
       "      <td>5.54</td>\n",
       "    </tr>\n",
       "    <tr>\n",
       "      <th>gsd_squared</th>\n",
       "      <td>23.72</td>\n",
       "      <td>24.91</td>\n",
       "      <td>28.71</td>\n",
       "    </tr>\n",
       "  </tbody>\n",
       "</table>\n",
       "</div>"
      ],
      "text/plain": [
       "                            5%    50%    95%\n",
       "metric                                      \n",
       "root_mean_squared_error   0.70   0.71   0.74\n",
       "median_absolute_error     0.41   0.42   0.42\n",
       "r2_score                  0.41   0.44   0.47\n",
       "mean_absolute_error       0.53   0.53   0.55\n",
       "gsd                       5.03   5.16   5.54\n",
       "gsd_squared              23.72  24.91  28.71"
      ]
     },
     "execution_count": 10,
     "metadata": {},
     "output_type": "execute_result"
    }
   ],
   "source": [
    "describe_result('general', 'performances')"
   ]
  },
  {
   "cell_type": "code",
   "execution_count": 11,
   "id": "dc567ec0",
   "metadata": {},
   "outputs": [
    {
     "data": {
      "text/html": [
       "<div>\n",
       "<style scoped>\n",
       "    .dataframe tbody tr th:only-of-type {\n",
       "        vertical-align: middle;\n",
       "    }\n",
       "\n",
       "    .dataframe tbody tr th {\n",
       "        vertical-align: top;\n",
       "    }\n",
       "\n",
       "    .dataframe thead th {\n",
       "        text-align: right;\n",
       "    }\n",
       "</style>\n",
       "<table border=\"1\" class=\"dataframe\">\n",
       "  <thead>\n",
       "    <tr style=\"text-align: right;\">\n",
       "      <th></th>\n",
       "      <th>5%</th>\n",
       "      <th>50%</th>\n",
       "      <th>95%</th>\n",
       "    </tr>\n",
       "    <tr>\n",
       "      <th>metric</th>\n",
       "      <th></th>\n",
       "      <th></th>\n",
       "      <th></th>\n",
       "    </tr>\n",
       "  </thead>\n",
       "  <tbody>\n",
       "    <tr>\n",
       "      <th>root_mean_squared_error</th>\n",
       "      <td>0.58</td>\n",
       "      <td>0.62</td>\n",
       "      <td>0.67</td>\n",
       "    </tr>\n",
       "    <tr>\n",
       "      <th>median_absolute_error</th>\n",
       "      <td>0.30</td>\n",
       "      <td>0.33</td>\n",
       "      <td>0.34</td>\n",
       "    </tr>\n",
       "    <tr>\n",
       "      <th>r2_score</th>\n",
       "      <td>0.43</td>\n",
       "      <td>0.45</td>\n",
       "      <td>0.50</td>\n",
       "    </tr>\n",
       "    <tr>\n",
       "      <th>mean_absolute_error</th>\n",
       "      <td>0.42</td>\n",
       "      <td>0.44</td>\n",
       "      <td>0.45</td>\n",
       "    </tr>\n",
       "    <tr>\n",
       "      <th>gsd</th>\n",
       "      <td>3.79</td>\n",
       "      <td>4.16</td>\n",
       "      <td>4.66</td>\n",
       "    </tr>\n",
       "    <tr>\n",
       "      <th>gsd_squared</th>\n",
       "      <td>13.63</td>\n",
       "      <td>16.43</td>\n",
       "      <td>20.43</td>\n",
       "    </tr>\n",
       "  </tbody>\n",
       "</table>\n",
       "</div>"
      ],
      "text/plain": [
       "                            5%    50%    95%\n",
       "metric                                      \n",
       "root_mean_squared_error   0.58   0.62   0.67\n",
       "median_absolute_error     0.30   0.33   0.34\n",
       "r2_score                  0.43   0.45   0.50\n",
       "mean_absolute_error       0.42   0.44   0.45\n",
       "gsd                       3.79   4.16   4.66\n",
       "gsd_squared              13.63  16.43  20.43"
      ]
     },
     "execution_count": 11,
     "metadata": {},
     "output_type": "execute_result"
    }
   ],
   "source": [
    "describe_result('repro_dev', 'performances')"
   ]
  },
  {
   "cell_type": "code",
   "execution_count": 12,
   "id": "ecc3208e",
   "metadata": {},
   "outputs": [],
   "source": [
    "important_features = {}\n",
    "\n",
    "for effect in key_for_effect:\n",
    "    \n",
    "    important_features[effect] = set(results_analyzer.get_important_features(get_model_key(effect)))"
   ]
  },
  {
   "cell_type": "code",
   "execution_count": 13,
   "id": "da3c9ab4",
   "metadata": {},
   "outputs": [
    {
     "data": {
      "text/plain": [
       "{'CATMoS_LD50_pred',\n",
       " 'CombDipolPolariz',\n",
       " 'ReadyBiodeg_pred_discrete',\n",
       " 'Sp3Sp2HybRatio'}"
      ]
     },
     "execution_count": 13,
     "metadata": {},
     "output_type": "execute_result"
    }
   ],
   "source": [
    "important_features['general'].intersection(important_features['repro_dev'])"
   ]
  },
  {
   "cell_type": "code",
   "execution_count": 14,
   "id": "c5c2d96b",
   "metadata": {},
   "outputs": [
    {
     "data": {
      "text/plain": [
       "{'MP_pred',\n",
       " 'P_pred',\n",
       " 'TopoPolSurfAir',\n",
       " 'VP_pred',\n",
       " 'nbN_discrete',\n",
       " 'ndHBdDon_discrete'}"
      ]
     },
     "execution_count": 14,
     "metadata": {},
     "output_type": "execute_result"
    }
   ],
   "source": [
    "important_features['general'].difference(important_features['repro_dev'])"
   ]
  },
  {
   "cell_type": "code",
   "execution_count": 15,
   "id": "bd7ec213",
   "metadata": {},
   "outputs": [
    {
     "data": {
      "text/plain": [
       "{'BCF_pred', 'FUB_pred', 'KM_pred', 'KOA_pred', 'Koc_pred', 'WS_pred'}"
      ]
     },
     "execution_count": 15,
     "metadata": {},
     "output_type": "execute_result"
    }
   ],
   "source": [
    "important_features['repro_dev'].difference(important_features['general'])"
   ]
  },
  {
   "cell_type": "markdown",
   "id": "39ca3bf0",
   "metadata": {},
   "source": [
    "## Model Application"
   ]
  },
  {
   "cell_type": "markdown",
   "id": "2004d046",
   "metadata": {},
   "source": [
    "### POD cumulative frequencies"
   ]
  },
  {
   "cell_type": "code",
   "execution_count": 16,
   "id": "b88f8331",
   "metadata": {},
   "outputs": [
    {
     "name": "stdout",
     "output_type": "stream",
     "text": [
      "general: 11.23102806892201 (0.7563387635693767, 166.77181913781948)\n",
      "repro_dev: 30.835350038180074 (2.975160965060669, 319.52207402361194)\n"
     ]
    }
   ],
   "source": [
    "pod_data = {\n",
    "    effect : results_analyzer.pod_and_prediction_interval(\n",
    "        get_model_key(effect),\n",
    "        inverse_transform=True, \n",
    "        normalize=True\n",
    "    )\n",
    "    for effect in key_for_effect\n",
    "}\n",
    "\n",
    "# Get median value with prediction interval\n",
    "for effect, df in pod_data.items():\n",
    "    median = df['pod'].quantile()\n",
    "    # Find the closest index to the median to avoid float issues\n",
    "    abs_diff = (df['pod'] - median).abs()\n",
    "    idx = abs_diff.idxmin()\n",
    "    median_data = df.loc[idx]\n",
    "    print(f\"{effect}: {median} ({median_data['lb']}, {median_data['ub']})\")"
   ]
  },
  {
   "cell_type": "markdown",
   "id": "1e18b52e",
   "metadata": {},
   "source": [
    "### Compare POD estimates (benchmarking)"
   ]
  },
  {
   "cell_type": "code",
   "execution_count": 17,
   "id": "8a1c7edb",
   "metadata": {},
   "outputs": [
    {
     "data": {
      "text/html": [
       "<div>\n",
       "<style scoped>\n",
       "    .dataframe tbody tr th:only-of-type {\n",
       "        vertical-align: middle;\n",
       "    }\n",
       "\n",
       "    .dataframe tbody tr th {\n",
       "        vertical-align: top;\n",
       "    }\n",
       "\n",
       "    .dataframe thead th {\n",
       "        text-align: right;\n",
       "    }\n",
       "</style>\n",
       "<table border=\"1\" class=\"dataframe\">\n",
       "  <thead>\n",
       "    <tr style=\"text-align: right;\">\n",
       "      <th></th>\n",
       "      <th>Authoritative</th>\n",
       "      <th>ToxValDB</th>\n",
       "      <th>QSAR</th>\n",
       "    </tr>\n",
       "  </thead>\n",
       "  <tbody>\n",
       "    <tr>\n",
       "      <th>0.05</th>\n",
       "      <td>0.0</td>\n",
       "      <td>0.3</td>\n",
       "      <td>2.0</td>\n",
       "    </tr>\n",
       "    <tr>\n",
       "      <th>0.50</th>\n",
       "      <td>4.4</td>\n",
       "      <td>12.8</td>\n",
       "      <td>11.3</td>\n",
       "    </tr>\n",
       "    <tr>\n",
       "      <th>0.95</th>\n",
       "      <td>212.8</td>\n",
       "      <td>268.6</td>\n",
       "      <td>99.5</td>\n",
       "    </tr>\n",
       "  </tbody>\n",
       "</table>\n",
       "</div>"
      ],
      "text/plain": [
       "      Authoritative  ToxValDB  QSAR\n",
       "0.05            0.0       0.3   2.0\n",
       "0.50            4.4      12.8  11.3\n",
       "0.95          212.8     268.6  99.5"
      ]
     },
     "execution_count": 17,
     "metadata": {},
     "output_type": "execute_result"
    }
   ],
   "source": [
    "# NOTE: Not sure whether these data are used in the paper\n",
    "pod_comparison_data = {\n",
    "    effect : results_analyzer.get_pod_comparison_data(get_model_key(effect)) \n",
    "    for effect in key_for_effect\n",
    "}\n",
    "\n",
    "# Inverse transform the PODs from log10\n",
    "(10**pd.DataFrame(pod_comparison_data['general']).quantile(percentiles)).round(1)"
   ]
  },
  {
   "cell_type": "code",
   "execution_count": 18,
   "id": "95dd63c4",
   "metadata": {},
   "outputs": [
    {
     "data": {
      "text/html": [
       "<div>\n",
       "<style scoped>\n",
       "    .dataframe tbody tr th:only-of-type {\n",
       "        vertical-align: middle;\n",
       "    }\n",
       "\n",
       "    .dataframe tbody tr th {\n",
       "        vertical-align: top;\n",
       "    }\n",
       "\n",
       "    .dataframe thead th {\n",
       "        text-align: right;\n",
       "    }\n",
       "</style>\n",
       "<table border=\"1\" class=\"dataframe\">\n",
       "  <thead>\n",
       "    <tr style=\"text-align: right;\">\n",
       "      <th></th>\n",
       "      <th>Authoritative</th>\n",
       "      <th>ToxValDB</th>\n",
       "      <th>QSAR</th>\n",
       "    </tr>\n",
       "  </thead>\n",
       "  <tbody>\n",
       "    <tr>\n",
       "      <th>0.05</th>\n",
       "      <td>0.1</td>\n",
       "      <td>1.1</td>\n",
       "      <td>4.9</td>\n",
       "    </tr>\n",
       "    <tr>\n",
       "      <th>0.50</th>\n",
       "      <td>4.3</td>\n",
       "      <td>49.0</td>\n",
       "      <td>31.6</td>\n",
       "    </tr>\n",
       "    <tr>\n",
       "      <th>0.95</th>\n",
       "      <td>93.1</td>\n",
       "      <td>331.8</td>\n",
       "      <td>178.0</td>\n",
       "    </tr>\n",
       "  </tbody>\n",
       "</table>\n",
       "</div>"
      ],
      "text/plain": [
       "      Authoritative  ToxValDB   QSAR\n",
       "0.05            0.1       1.1    4.9\n",
       "0.50            4.3      49.0   31.6\n",
       "0.95           93.1     331.8  178.0"
      ]
     },
     "execution_count": 18,
     "metadata": {},
     "output_type": "execute_result"
    }
   ],
   "source": [
    "(10**pd.DataFrame(pod_comparison_data['repro_dev']).quantile(percentiles)).round(1)"
   ]
  },
  {
   "cell_type": "markdown",
   "id": "2af68796",
   "metadata": {},
   "source": [
    "### Margins of exposure with cumulative counts"
   ]
  },
  {
   "cell_type": "code",
   "execution_count": 19,
   "id": "eb17a83c",
   "metadata": {},
   "outputs": [
    {
     "name": "stdout",
     "output_type": "stream",
     "text": [
      "For general effects:\n",
      "\t2378 chemicals moderate_concern\n",
      "\t509 chemicals high_concern\n",
      "For repro_dev effects:\n",
      "\t1512 chemicals moderate_concern\n",
      "\t201 chemicals high_concern\n"
     ]
    }
   ],
   "source": [
    "# Get the upper bounds of the MOE concern categories\n",
    "thres_for_concern = {\n",
    "    k.lower().replace(' ', '_') : bounds[-1] \n",
    "    for k, bounds in MOE_CATEGORIES.items()\n",
    "}\n",
    "\n",
    "for effect in key_for_effect:\n",
    "    print(f'For {effect} effects:')\n",
    "\n",
    "    results_for_percentile = results_analyzer.moe_and_prediction_intervals(get_model_key(effect))\n",
    "\n",
    "    # Get the upper bound of exposure uncertainty\n",
    "    ub_exposure_results = results_for_percentile['95th percentile (mg/kg/day)']\n",
    "    # Get MOEs for the lower bound of the POD prediction interval\n",
    "    moes = ub_exposure_results['lb']\n",
    "\n",
    "    for concern, concern_threshold in thres_for_concern.items():\n",
    "        where_potential_concern = moes <= concern_threshold\n",
    "        concern_count = ub_exposure_results.loc[where_potential_concern]['cum_count'][-1]\n",
    "        print(f'\\t{concern_count} chemicals {concern}')"
   ]
  },
  {
   "cell_type": "code",
   "execution_count": 20,
   "id": "4d55beff",
   "metadata": {},
   "outputs": [
    {
     "name": "stdout",
     "output_type": "stream",
     "text": [
      "Typical exposure uncertainty: 4 log10-units\n"
     ]
    }
   ],
   "source": [
    "exposure_df = data_manager.load_exposure_data().loc[application_chemicals]\n",
    "\n",
    "exposure_difference = (\n",
    "    exposure_df['95th percentile (mg/kg/day)'] \n",
    "    - exposure_df['5th percentile (mg/kg/day)']\n",
    ")\n",
    "\n",
    "typical_uncertainty = exposure_difference.median()\n",
    "\n",
    "print(f'Typical exposure uncertainty: {round(typical_uncertainty)} log10-units')"
   ]
  },
  {
   "cell_type": "code",
   "execution_count": null,
   "id": "6aabdc47",
   "metadata": {},
   "outputs": [],
   "source": []
  }
 ],
 "metadata": {
  "kernelspec": {
   "display_name": "chiu-lab",
   "language": "python",
   "name": "chiu-lab"
  },
  "language_info": {
   "codemirror_mode": {
    "name": "ipython",
    "version": 3
   },
   "file_extension": ".py",
   "mimetype": "text/x-python",
   "name": "python",
   "nbconvert_exporter": "python",
   "pygments_lexer": "ipython3",
   "version": "3.11.0"
  }
 },
 "nbformat": 4,
 "nbformat_minor": 5
}
