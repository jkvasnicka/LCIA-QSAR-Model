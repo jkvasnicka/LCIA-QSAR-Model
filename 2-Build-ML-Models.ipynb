{
 "cells": [
  {
   "cell_type": "markdown",
   "id": "2b983e18",
   "metadata": {},
   "source": [
    "# Build Final Models: LCIA QSAR Study\n",
    "**Date:** June 7, 2023"
   ]
  },
  {
   "cell_type": "code",
   "execution_count": 1,
   "id": "b2ec182a",
   "metadata": {},
   "outputs": [],
   "source": [
    "from config_management import UnifiedConfiguration\n",
    "from workflow_management import WorkflowManager"
   ]
  },
  {
   "cell_type": "markdown",
   "id": "05624d5c",
   "metadata": {},
   "source": [
    "## Configure a workflow object"
   ]
  },
  {
   "cell_type": "code",
   "execution_count": 2,
   "id": "95a2b360",
   "metadata": {},
   "outputs": [],
   "source": [
    "config_mapping_path = 'Input\\Configuration\\configuration-mapping.json'\n",
    "config = UnifiedConfiguration(config_mapping_path)\n",
    "\n",
    "workflow_manager = WorkflowManager(config)"
   ]
  },
  {
   "cell_type": "markdown",
   "id": "389e85b0",
   "metadata": {},
   "source": [
    "## Build & evaluate final models"
   ]
  },
  {
   "cell_type": "code",
   "execution_count": 3,
   "id": "f74e4b86",
   "metadata": {
    "scrolled": false
   },
   "outputs": [
    {
     "name": "stderr",
     "output_type": "stream",
     "text": [
      "C:\\Users\\jkvas\\.conda\\envs\\chiu-lab\\Lib\\site-packages\\sklearn\\neural_network\\_multilayer_perceptron.py:686: ConvergenceWarning: Stochastic Optimizer: Maximum iterations (200) reached and the optimization hasn't converged yet.\n",
      "  warnings.warn(\n"
     ]
    },
    {
     "name": "stdout",
     "output_type": "stream",
     "text": [
      "CPU times: total: 1min 8s\n",
      "Wall time: 1min 12s\n"
     ]
    }
   ],
   "source": [
    "%%time\n",
    "\n",
    "workflow_manager.run()"
   ]
  },
  {
   "cell_type": "code",
   "execution_count": null,
   "id": "e98b0601",
   "metadata": {},
   "outputs": [],
   "source": []
  }
 ],
 "metadata": {
  "kernelspec": {
   "display_name": "chiu-lab",
   "language": "python",
   "name": "chiu-lab"
  },
  "language_info": {
   "codemirror_mode": {
    "name": "ipython",
    "version": 3
   },
   "file_extension": ".py",
   "mimetype": "text/x-python",
   "name": "python",
   "nbconvert_exporter": "python",
   "pygments_lexer": "ipython3",
   "version": "3.11.0"
  }
 },
 "nbformat": 4,
 "nbformat_minor": 5
}
