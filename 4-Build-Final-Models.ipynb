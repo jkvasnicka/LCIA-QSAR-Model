{
 "cells": [
  {
   "cell_type": "markdown",
   "id": "2b983e18",
   "metadata": {},
   "source": [
    "# Build Final Models: LCIA QSAR Study\n",
    "**Date:** June 7, 2023"
   ]
  },
  {
   "cell_type": "code",
   "execution_count": 1,
   "id": "b2ec182a",
   "metadata": {},
   "outputs": [],
   "source": [
    "from configuration import UnifiedConfiguration\n",
    "from workflow_lcia import LciaQsarModelingWorkflow"
   ]
  },
  {
   "cell_type": "markdown",
   "id": "05624d5c",
   "metadata": {},
   "source": [
    "## Configure a workflow object"
   ]
  },
  {
   "cell_type": "code",
   "execution_count": 2,
   "id": "95a2b360",
   "metadata": {},
   "outputs": [],
   "source": [
    "# TODO: Change 'metrics' to 'metric'\n",
    "\n",
    "config_file_dict = {\n",
    "    'path' : 'Input/path-configuration.json', \n",
    "    'preprocessor' : 'Input/preprocessor-configuration.json',\n",
    "    'estimator' : 'Input/estimator-configuration.json',\n",
    "    'metric' : 'Input/metric-configuration.json',\n",
    "    'model' : 'Input/model-configuration.json'\n",
    "}\n",
    "config = UnifiedConfiguration(config_file_dict)\n",
    "\n",
    "workflow = LciaQsarModelingWorkflow(config)"
   ]
  },
  {
   "cell_type": "markdown",
   "id": "389e85b0",
   "metadata": {},
   "source": [
    "## Build & evaluate final models"
   ]
  },
  {
   "cell_type": "code",
   "execution_count": 3,
   "id": "f74e4b86",
   "metadata": {
    "scrolled": false
   },
   "outputs": [
    {
     "ename": "TypeError",
     "evalue": "SupervisedLearningWorkflow._repeated_kfold_permutation_importance() missing 2 required positional arguments: 'X_train' and 'y_train'",
     "output_type": "error",
     "traceback": [
      "\u001b[1;31m---------------------------------------------------------------------------\u001b[0m",
      "\u001b[1;31mTypeError\u001b[0m                                 Traceback (most recent call last)",
      "File \u001b[1;32m<timed eval>:1\u001b[0m\n",
      "File \u001b[1;32m~\\Google Drive\\My Drive\\Repositories\\LCIA-QSAR-Model\\workflow_lcia.py:70\u001b[0m, in \u001b[0;36mLciaQsarModelingWorkflow.run\u001b[1;34m(self)\u001b[0m\n\u001b[0;32m     66\u001b[0m \u001b[38;5;28mself\u001b[39m\u001b[38;5;241m.\u001b[39mestimator \u001b[38;5;241m=\u001b[39m estimator\n\u001b[0;32m     68\u001b[0m build_model \u001b[38;5;241m=\u001b[39m \u001b[38;5;28mself\u001b[39m\u001b[38;5;241m.\u001b[39m_get_model_build_function(\n\u001b[0;32m     69\u001b[0m     key_for[\u001b[38;5;124m'\u001b[39m\u001b[38;5;124mmodel_build\u001b[39m\u001b[38;5;124m'\u001b[39m])\n\u001b[1;32m---> 70\u001b[0m \u001b[43mbuild_model\u001b[49m\u001b[43m(\u001b[49m\u001b[43mresults_manager\u001b[49m\u001b[43m,\u001b[49m\u001b[43m \u001b[49m\u001b[43mmodel_key\u001b[49m\u001b[43m)\u001b[49m\n\u001b[0;32m     72\u001b[0m results_manager\u001b[38;5;241m.\u001b[39mwrite_estimator(estimator, model_key)\n",
      "File \u001b[1;32m~\\Google Drive\\My Drive\\Repositories\\LCIA-QSAR-Model\\workflow_lcia.py:91\u001b[0m, in \u001b[0;36mLciaQsarModelingWorkflow._build_model_with_selection\u001b[1;34m(self, results_manager, model_key)\u001b[0m\n\u001b[0;32m     85\u001b[0m \u001b[38;5;250m\u001b[39m\u001b[38;5;124;03m'''Augment the corresponding method of the base class.\u001b[39;00m\n\u001b[0;32m     86\u001b[0m \n\u001b[0;32m     87\u001b[0m \u001b[38;5;124;03mThe results are saved to disk.\u001b[39;00m\n\u001b[0;32m     88\u001b[0m \u001b[38;5;124;03m'''\u001b[39;00m\n\u001b[0;32m     89\u001b[0m base \u001b[38;5;241m=\u001b[39m SupervisedLearningWorkflow\n\u001b[1;32m---> 91\u001b[0m results_dict \u001b[38;5;241m=\u001b[39m \u001b[43mbase\u001b[49m\u001b[38;5;241;43m.\u001b[39;49m\u001b[43mbuild_model_with_selection\u001b[49m\u001b[43m(\u001b[49m\u001b[38;5;28;43mself\u001b[39;49m\u001b[43m)\u001b[49m\n\u001b[0;32m     92\u001b[0m \u001b[38;5;28;01mfor\u001b[39;00m result_type, df \u001b[38;5;129;01min\u001b[39;00m results_dict\u001b[38;5;241m.\u001b[39mitems():\n\u001b[0;32m     93\u001b[0m     \u001b[38;5;28msetattr\u001b[39m(\u001b[38;5;28mself\u001b[39m, result_type, df)\n",
      "File \u001b[1;32m~\\Google Drive\\My Drive\\Repositories\\LCIA-QSAR-Model\\workflow_base.py:36\u001b[0m, in \u001b[0;36mSupervisedLearningWorkflow.build_model_with_selection\u001b[1;34m(self)\u001b[0m\n\u001b[0;32m     30\u001b[0m \u001b[38;5;250m\u001b[39m\u001b[38;5;124;03m'''Build a model, with feature selection, for out-of-sample \u001b[39;00m\n\u001b[0;32m     31\u001b[0m \u001b[38;5;124;03mprediction.\u001b[39;00m\n\u001b[0;32m     32\u001b[0m \n\u001b[0;32m     33\u001b[0m \u001b[38;5;124;03mEvaluate its generalization error via a nested cross validation.\u001b[39;00m\n\u001b[0;32m     34\u001b[0m \u001b[38;5;124;03m'''\u001b[39;00m\n\u001b[0;32m     35\u001b[0m \u001b[38;5;66;03m## Estimate the model's generalization error via \"pseudo models.\"\u001b[39;00m\n\u001b[1;32m---> 36\u001b[0m performances, importances_replicates \u001b[38;5;241m=\u001b[39m \u001b[38;5;28;43mself\u001b[39;49m\u001b[38;5;241;43m.\u001b[39;49m\u001b[43m_repeated_kfold_with_nested_selection\u001b[49m\u001b[43m(\u001b[49m\u001b[43m)\u001b[49m\n\u001b[0;32m     38\u001b[0m \u001b[38;5;66;03m## Build the model for out-of-sample prediction.\u001b[39;00m\n\u001b[0;32m     39\u001b[0m X, y \u001b[38;5;241m=\u001b[39m \u001b[38;5;28mself\u001b[39m\u001b[38;5;241m.\u001b[39mX, \u001b[38;5;28mself\u001b[39m\u001b[38;5;241m.\u001b[39my  \u001b[38;5;66;03m# all data\u001b[39;00m\n",
      "File \u001b[1;32m~\\Google Drive\\My Drive\\Repositories\\LCIA-QSAR-Model\\workflow_base.py:71\u001b[0m, in \u001b[0;36mSupervisedLearningWorkflow._repeated_kfold_with_nested_selection\u001b[1;34m(self)\u001b[0m\n\u001b[0;32m     68\u001b[0m X_train, X_test \u001b[38;5;241m=\u001b[39m X\u001b[38;5;241m.\u001b[39miloc[train_ix, :], X\u001b[38;5;241m.\u001b[39miloc[test_ix, :]\n\u001b[0;32m     69\u001b[0m y_train, y_test \u001b[38;5;241m=\u001b[39m y\u001b[38;5;241m.\u001b[39miloc[train_ix], y\u001b[38;5;241m.\u001b[39miloc[test_ix]\n\u001b[1;32m---> 71\u001b[0m important_features, importances \u001b[38;5;241m=\u001b[39m \u001b[38;5;28;43mself\u001b[39;49m\u001b[38;5;241;43m.\u001b[39;49m\u001b[43m_nested_feature_selection\u001b[49m\u001b[43m(\u001b[49m\u001b[43m)\u001b[49m\n\u001b[0;32m     73\u001b[0m importances_replicates\u001b[38;5;241m.\u001b[39mappend(importances)\n\u001b[0;32m     75\u001b[0m \u001b[38;5;28mself\u001b[39m\u001b[38;5;241m.\u001b[39mestimator\u001b[38;5;241m.\u001b[39mfit(X_train[important_features], y_train)\n",
      "File \u001b[1;32m~\\Google Drive\\My Drive\\Repositories\\LCIA-QSAR-Model\\workflow_base.py:91\u001b[0m, in \u001b[0;36mSupervisedLearningWorkflow._nested_feature_selection\u001b[1;34m(self)\u001b[0m\n\u001b[0;32m     88\u001b[0m \u001b[38;5;28;01mdef\u001b[39;00m \u001b[38;5;21m_nested_feature_selection\u001b[39m(\u001b[38;5;28mself\u001b[39m):\n\u001b[0;32m     89\u001b[0m \u001b[38;5;250m    \u001b[39m\u001b[38;5;124;03m'''\u001b[39;00m\n\u001b[0;32m     90\u001b[0m \u001b[38;5;124;03m    '''\u001b[39;00m\n\u001b[1;32m---> 91\u001b[0m     importances \u001b[38;5;241m=\u001b[39m \u001b[38;5;28;43mself\u001b[39;49m\u001b[38;5;241;43m.\u001b[39;49m\u001b[43m_repeated_kfold_permutation_importance\u001b[49m\u001b[43m(\u001b[49m\u001b[43m)\u001b[49m        \n\u001b[0;32m     92\u001b[0m     important_features \u001b[38;5;241m=\u001b[39m SupervisedLearningWorkflow\u001b[38;5;241m.\u001b[39mselect_features(\n\u001b[0;32m     93\u001b[0m         importances, \n\u001b[0;32m     94\u001b[0m         \u001b[38;5;28mself\u001b[39m\u001b[38;5;241m.\u001b[39mmodel_settings\u001b[38;5;241m.\u001b[39mcriterion_metric, \n\u001b[0;32m     95\u001b[0m         \u001b[38;5;28mself\u001b[39m\u001b[38;5;241m.\u001b[39mmodel_settings\u001b[38;5;241m.\u001b[39mn_features\n\u001b[0;32m     96\u001b[0m         )\n\u001b[0;32m     98\u001b[0m     \u001b[38;5;28;01mreturn\u001b[39;00m important_features, importances\n",
      "\u001b[1;31mTypeError\u001b[0m: SupervisedLearningWorkflow._repeated_kfold_permutation_importance() missing 2 required positional arguments: 'X_train' and 'y_train'"
     ]
    }
   ],
   "source": [
    "%%time\n",
    "\n",
    "workflow.run()"
   ]
  },
  {
   "cell_type": "code",
   "execution_count": null,
   "id": "8ccd60c3",
   "metadata": {},
   "outputs": [],
   "source": []
  }
 ],
 "metadata": {
  "kernelspec": {
   "display_name": "chiu-lab",
   "language": "python",
   "name": "chiu-lab"
  },
  "language_info": {
   "codemirror_mode": {
    "name": "ipython",
    "version": 3
   },
   "file_extension": ".py",
   "mimetype": "text/x-python",
   "name": "python",
   "nbconvert_exporter": "python",
   "pygments_lexer": "ipython3",
   "version": "3.11.0"
  }
 },
 "nbformat": 4,
 "nbformat_minor": 5
}
