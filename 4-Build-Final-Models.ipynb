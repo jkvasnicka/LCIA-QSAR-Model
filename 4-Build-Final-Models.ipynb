{
 "cells": [
  {
   "cell_type": "markdown",
   "id": "2b983e18",
   "metadata": {},
   "source": [
    "# Build Final Models: LCIA QSAR Study\n",
    "**Date:** June 7, 2023"
   ]
  },
  {
   "cell_type": "code",
   "execution_count": 1,
   "id": "b2ec182a",
   "metadata": {},
   "outputs": [],
   "source": [
    "from configuration import UnifiedConfiguration\n",
    "from workflow_lcia import LciaQsarModelingWorkflow"
   ]
  },
  {
   "cell_type": "markdown",
   "id": "05624d5c",
   "metadata": {},
   "source": [
    "## Configure a workflow object"
   ]
  },
  {
   "cell_type": "code",
   "execution_count": 2,
   "id": "95a2b360",
   "metadata": {},
   "outputs": [],
   "source": [
    "config_file_dict = {\n",
    "    'path' : 'Input/path-configuration.json', \n",
    "    'preprocessor' : 'Input/preprocessor-configuration.json',\n",
    "    'estimator' : 'Input/estimator-configuration.json',\n",
    "    'metric' : 'Input/metric-configuration.json',\n",
    "    'model' : 'Input/model-configuration.json'\n",
    "}\n",
    "config = UnifiedConfiguration(config_file_dict)\n",
    "\n",
    "workflow = LciaQsarModelingWorkflow(config)"
   ]
  },
  {
   "cell_type": "markdown",
   "id": "389e85b0",
   "metadata": {},
   "source": [
    "## Build & evaluate final models"
   ]
  },
  {
   "cell_type": "code",
   "execution_count": 3,
   "id": "f74e4b86",
   "metadata": {
    "scrolled": false
   },
   "outputs": [
    {
     "name": "stdout",
     "output_type": "stream",
     "text": [
      "CPU times: total: 26.2 s\n",
      "Wall time: 1min 1s\n"
     ]
    }
   ],
   "source": [
    "%%time\n",
    "\n",
    "workflow.run()"
   ]
  },
  {
   "cell_type": "code",
   "execution_count": null,
   "id": "f0972a7c",
   "metadata": {},
   "outputs": [],
   "source": []
  }
 ],
 "metadata": {
  "kernelspec": {
   "display_name": "chiu-lab",
   "language": "python",
   "name": "chiu-lab"
  },
  "language_info": {
   "codemirror_mode": {
    "name": "ipython",
    "version": 3
   },
   "file_extension": ".py",
   "mimetype": "text/x-python",
   "name": "python",
   "nbconvert_exporter": "python",
   "pygments_lexer": "ipython3",
   "version": "3.11.0"
  }
 },
 "nbformat": 4,
 "nbformat_minor": 5
}
