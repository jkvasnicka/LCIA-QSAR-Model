{
 "cells": [
  {
   "cell_type": "markdown",
   "id": "2b983e18",
   "metadata": {},
   "source": [
    "# Build Final Models: LCIA QSAR Study\n",
    "**Date:** June 7, 2023"
   ]
  },
  {
   "cell_type": "code",
   "execution_count": 1,
   "id": "b2ec182a",
   "metadata": {},
   "outputs": [],
   "source": [
    "from config_management import UnifiedConfiguration\n",
    "from workflow_management import WorkflowManager"
   ]
  },
  {
   "cell_type": "markdown",
   "id": "05624d5c",
   "metadata": {},
   "source": [
    "## Configure a workflow object"
   ]
  },
  {
   "cell_type": "code",
   "execution_count": 2,
   "id": "95a2b360",
   "metadata": {},
   "outputs": [],
   "source": [
    "config_mapping_path = 'Input\\configuration-mapping.json'\n",
    "config = UnifiedConfiguration(config_mapping_path)\n",
    "\n",
    "workflow_manager = WorkflowManager(config)"
   ]
  },
  {
   "cell_type": "markdown",
   "id": "389e85b0",
   "metadata": {},
   "source": [
    "## Build & evaluate final models"
   ]
  },
  {
   "cell_type": "code",
   "execution_count": 3,
   "id": "f74e4b86",
   "metadata": {
    "scrolled": false
   },
   "outputs": [
    {
     "name": "stdout",
     "output_type": "stream",
     "text": [
      "CPU times: total: 25.3 s\n",
      "Wall time: 46.3 s\n"
     ]
    }
   ],
   "source": [
    "%%time\n",
    "\n",
    "workflow_manager.run()"
   ]
  },
  {
   "cell_type": "code",
   "execution_count": 5,
   "id": "65419299",
   "metadata": {
    "scrolled": false
   },
   "outputs": [
    {
     "data": {
      "text/plain": [
       "{'_config_for_category': {},\n",
       " 'path': namespace(comptox_identifiers_file='Input/Raw/CompTox/CCD-identifiers.csv',\n",
       "           chemical_id_dev_file='Input/Raw/OPERA/Input/Development/chemical-identifiers.txt',\n",
       "           chemical_structures_dev_file='Input/Raw/OPERA/Input/Development/chemical-identifiers.smi',\n",
       "           chemical_id_app_file='Input/Raw/OPERA/Input/Application/chemical-identifiers.txt',\n",
       "           raw_comptox_features_file='Input/Raw/CompTox/CCD-OPERA-TEST-predictions.csv',\n",
       "           raw_opera_features_dir='Input/Raw/OPERA/Output/Development',\n",
       "           file_for_features_source={'comptox': 'Input/Features/CompTox-predictions.csv',\n",
       "                                     'opera': 'Input/Features/OPERA-2.9-predictions.csv'},\n",
       "           opera_mapper_file='Input/Raw/OPERA/Output/feature-columns-mapper.json',\n",
       "           opera_AD_file='Input/Features/OPERA-2.9-AD-flags.csv',\n",
       "           raw_ld50_experimental_file='Input/Raw/Nicolo/DF_LD50_curated_DB.xlsx',\n",
       "           ld50_experimental_file='Input/Features/experimental-LD50s.csv',\n",
       "           raw_surrogate_pods_file='Input/Raw/Nicolo/TOX_data_Nicolo_final_v01b.xlsx',\n",
       "           surrogate_pods_file='Input/Targets/surrogate-points-of-departure-log10.csv',\n",
       "           raw_regulatory_pods_file='Input/Raw/Nicolo/Numeric-data-for-Figures-EHP11524-S5.csv',\n",
       "           regulatory_pods_file='Input/Targets/regulatory-points-of-departure-log10.csv',\n",
       "           raw_toxcast_oeds_file='Input/Raw/En-Hsuan/OED-and-expocast-total-pop-output-file.csv',\n",
       "           toxcast_oeds_file='Input/ToxCast/oral-equivalent-doses-log10.csv',\n",
       "           seem3_exposure_file='Input/Raw/SEEM3/Exposure_download_v1_Data.csv',\n",
       "           opera_application_batches_dir='Input/Raw/OPERA/Input/Application/OPERA2.9_batches',\n",
       "           results_dir='Results'),\n",
       " 'preprocessor': namespace(preprocessors_for_condition={'missing': ['VarianceThreshold',\n",
       "                                         'MissingValuesSelector',\n",
       "                                         'PowerTransformer',\n",
       "                                         'SimpleImputer',\n",
       "                                         'MedianScaler'],\n",
       "                                        'complete': ['PowerTransformer',\n",
       "                                         'MedianScaler']},\n",
       "           settings={'VarianceThreshold': {'module': 'sklearn.feature_selection',\n",
       "                      'kwargs': {'threshold': 0}},\n",
       "                     'MissingValuesSelector': {'module': 'transform',\n",
       "                      'kwargs': {'threshold': 0.3}},\n",
       "                     'PowerTransformer': {'module': 'sklearn.preprocessing',\n",
       "                      'kwargs': {'standardize': False},\n",
       "                      'do_column_select': True},\n",
       "                     'SimpleImputer': {'module': 'sklearn.impute',\n",
       "                      'kwargs': {'strategy': 'median'}},\n",
       "                     'MedianScaler': {'module': 'transform',\n",
       "                      'do_column_select': True}}),\n",
       " 'data': namespace(ld50_pred_column_for_source={'comptox': 'ORAL_RAT_LD50_MOL/KG_TEST_PRED',\n",
       "                                        'opera': 'CATMoS_LD50_pred'},\n",
       "           use_experimental_for_ld50={'experimental': True,\n",
       "                                      'predicted': False},\n",
       "           drop_missing_for_condition={'complete': True, 'missing': False},\n",
       "           discrete_columns_for_source={'comptox': [],\n",
       "                                        'opera': ['CERAPP_Ago_pred',\n",
       "                                         'CERAPP_Anta_pred',\n",
       "                                         'CERAPP_Bind_pred',\n",
       "                                         'CoMPARA_Ago_pred',\n",
       "                                         'CoMPARA_Anta_pred',\n",
       "                                         'CoMPARA_Bind_pred',\n",
       "                                         'nbAtoms',\n",
       "                                         'nbHeavyAtoms',\n",
       "                                         'nbC',\n",
       "                                         'nbO',\n",
       "                                         'nbN',\n",
       "                                         'nbAromAtom',\n",
       "                                         'nbRing',\n",
       "                                         'nbHeteroRing',\n",
       "                                         'nbRotBd',\n",
       "                                         'nbHBdAcc',\n",
       "                                         'ndHBdDon',\n",
       "                                         'nbLipinskiFailures',\n",
       "                                         'ReadyBiodeg_pred']},\n",
       "           discrete_column_suffix='_discrete'),\n",
       " 'feature_selection': namespace(criterion_metric='neg_root_mean_squared_error',\n",
       "           n_features=10,\n",
       "           n_splits_select=2,\n",
       "           n_repeats_select=1,\n",
       "           random_state_select=2,\n",
       "           n_repeats_perm=2,\n",
       "           random_state_perm=3,\n",
       "           scoring=['explained_variance',\n",
       "                    'max_error',\n",
       "                    'neg_mean_absolute_error',\n",
       "                    'neg_mean_squared_error',\n",
       "                    'neg_root_mean_squared_error',\n",
       "                    'neg_median_absolute_error',\n",
       "                    'neg_mean_absolute_percentage_error',\n",
       "                    'r2']),\n",
       " 'estimator': namespace(RandomForestRegressor={'module': 'sklearn.ensemble',\n",
       "                                  'kwargs': {'max_features': 0.3333333333333333}},\n",
       "           Ridge={'module': 'sklearn.linear_model'}),\n",
       " 'metric': namespace(explained_variance_score={'module': 'sklearn.metrics'},\n",
       "           max_error={'module': 'sklearn.metrics'},\n",
       "           mean_absolute_error={'module': 'sklearn.metrics'},\n",
       "           mean_squared_error={'module': 'sklearn.metrics'},\n",
       "           root_mean_squared_error={'module': 'sklearn.metrics',\n",
       "                                    'class': 'mean_squared_error',\n",
       "                                    'kwargs': {'squared': False}},\n",
       "           median_absolute_error={'module': 'sklearn.metrics'},\n",
       "           mean_absolute_percentage_error={'module': 'sklearn.metrics'},\n",
       "           r2_score={'module': 'sklearn.metrics'}),\n",
       " 'model': namespace(n_jobs=-1,\n",
       "           modeling_instructions=[{'target_effect': 'general',\n",
       "                                   'features_source': 'opera',\n",
       "                                   'ld50_type': 'predicted',\n",
       "                                   'data_condition': 'missing',\n",
       "                                   'select_features': 'false',\n",
       "                                   'estimators': ['RandomForestRegressor',\n",
       "                                    'Ridge']},\n",
       "                                  {'target_effect': 'repro_dev',\n",
       "                                   'features_source': 'opera',\n",
       "                                   'ld50_type': 'predicted',\n",
       "                                   'data_condition': 'missing',\n",
       "                                   'select_features': 'false',\n",
       "                                   'estimators': ['RandomForestRegressor',\n",
       "                                    'Ridge']},\n",
       "                                  {'target_effect': 'general',\n",
       "                                   'features_source': 'opera',\n",
       "                                   'ld50_type': 'predicted',\n",
       "                                   'data_condition': 'missing',\n",
       "                                   'select_features': 'true',\n",
       "                                   'estimators': ['RandomForestRegressor',\n",
       "                                    'Ridge']},\n",
       "                                  {'target_effect': 'repro_dev',\n",
       "                                   'features_source': 'opera',\n",
       "                                   'ld50_type': 'predicted',\n",
       "                                   'data_condition': 'missing',\n",
       "                                   'select_features': 'true',\n",
       "                                   'estimators': ['RandomForestRegressor',\n",
       "                                    'Ridge']}]),\n",
       " 'evaluation': namespace(n_splits_cv=2, n_repeats_cv=1, random_state_cv=1),\n",
       " 'plot': namespace(label_for_metric={'root_mean_squared_error': 'RMSE',\n",
       "                             'median_absolute_error': 'MAE',\n",
       "                             'r2_score': '$R^2$'},\n",
       "           label_for_scoring={'neg_root_mean_squared_error': '- RMSE',\n",
       "                              'neg_median_absolute_error': '- MAE',\n",
       "                              'r2': '$R^2$'},\n",
       "           label_for_effect={'general': 'General Toxicity',\n",
       "                             'repro_dev': 'Reproductive/Developmental Toxicity'},\n",
       "           color_for_effect={'general': '#1f77b4', 'repro_dev': '#d62728'},\n",
       "           label_for_select_features={'true': 'With Selection',\n",
       "                                      'false': 'Without Selection'},\n",
       "           label_for_exposure_column={'95th percentile (mg/kg/day)': 'Median Exposure 95%ile',\n",
       "                                      '50th percentile (mg/kg/day)': 'Median Exposure 50%ile',\n",
       "                                      '5th percentile (mg/kg/day)': 'Median Exposure 5%ile'},\n",
       "           prediction_label='$log_{10}POD$',\n",
       "           feature_names_label='Feature Names',\n",
       "           all_chemicals_label='All Chemicals',\n",
       "           train_chemicals_label='Training Chemicals',\n",
       "           label_for_sample_type={'out': 'Out of Sample', 'in': 'In Sample'},\n",
       "           color_for_sample_type={'out': 'black', 'in': '#004488'})}"
      ]
     },
     "execution_count": 5,
     "metadata": {},
     "output_type": "execute_result"
    }
   ],
   "source": [
    "config.__dict__"
   ]
  },
  {
   "cell_type": "code",
   "execution_count": null,
   "id": "3c60f8c9",
   "metadata": {},
   "outputs": [],
   "source": []
  }
 ],
 "metadata": {
  "kernelspec": {
   "display_name": "chiu-lab",
   "language": "python",
   "name": "chiu-lab"
  },
  "language_info": {
   "codemirror_mode": {
    "name": "ipython",
    "version": 3
   },
   "file_extension": ".py",
   "mimetype": "text/x-python",
   "name": "python",
   "nbconvert_exporter": "python",
   "pygments_lexer": "ipython3",
   "version": "3.11.0"
  }
 },
 "nbformat": 4,
 "nbformat_minor": 5
}
