{
 "cells": [
  {
   "cell_type": "markdown",
   "id": "97fb2dcb",
   "metadata": {},
   "source": [
    "# Get Chemical Identifiers: LCIA QSAR Project\n",
    "**Author:** Jacob Kvasnicka <br>\n",
    "**Date:** June 24, 2023\n",
    "\n",
    "Get chemical identifiers to use as inputs to the OPERA 2.9 user interface."
   ]
  },
  {
   "cell_type": "code",
   "execution_count": 1,
   "id": "5c3820dc",
   "metadata": {},
   "outputs": [],
   "source": [
    "import pandas as pd\n",
    "from os import path \n",
    "import re\n",
    "\n",
    "import pattern\n",
    "from config_management import UnifiedConfiguration\n",
    "from raw_processing import RawDataProcessor"
   ]
  },
  {
   "cell_type": "code",
   "execution_count": 2,
   "id": "59180b48",
   "metadata": {},
   "outputs": [],
   "source": [
    "config_mapping_path = 'Input\\configuration-mapping.json'\n",
    "config = UnifiedConfiguration(config_mapping_path)\n",
    "raw_processor = RawDataProcessor(config.path)"
   ]
  },
  {
   "cell_type": "code",
   "execution_count": 3,
   "id": "9b1dce28",
   "metadata": {},
   "outputs": [
    {
     "data": {
      "text/plain": [
       "0       DTXSID5020281\n",
       "1       DTXSID8020961\n",
       "2       DTXSID0021834\n",
       "3       DTXSID3032622\n",
       "4       DTXSID2044347\n",
       "            ...      \n",
       "8313    DTXSID5057882\n",
       "8314    DTXSID5057884\n",
       "8315    DTXSID0057885\n",
       "8316    DTXSID1057905\n",
       "8317    DTXSID6057906\n",
       "Name: dtxsid, Length: 6598, dtype: object"
      ]
     },
     "execution_count": 3,
     "metadata": {},
     "output_type": "execute_result"
    }
   ],
   "source": [
    "identifiers = raw_processor.get_labeled_identifiers()\n",
    "\n",
    "identifiers"
   ]
  },
  {
   "cell_type": "code",
   "execution_count": 4,
   "id": "2f49702e",
   "metadata": {},
   "outputs": [
    {
     "data": {
      "text/plain": [
       "0          DTXSID9047623\n",
       "1          DTXSID0052700\n",
       "2         DTXSID00583560\n",
       "3         DTXSID00859050\n",
       "4         DTXSID00860464\n",
       "               ...      \n",
       "479861     DTXSID3038307\n",
       "479862     DTXSID8038300\n",
       "479863     DTXSID8074158\n",
       "479864     DTXSID2032180\n",
       "479865     DTXSID7020895\n",
       "Name: DTXSID, Length: 479866, dtype: object"
      ]
     },
     "execution_count": 4,
     "metadata": {},
     "output_type": "execute_result"
    }
   ],
   "source": [
    "all_identifiers = raw_processor.get_all_identifiers()\n",
    "\n",
    "all_identifiers"
   ]
  }
 ],
 "metadata": {
  "kernelspec": {
   "display_name": "chiu-lab",
   "language": "python",
   "name": "chiu-lab"
  },
  "language_info": {
   "codemirror_mode": {
    "name": "ipython",
    "version": 3
   },
   "file_extension": ".py",
   "mimetype": "text/x-python",
   "name": "python",
   "nbconvert_exporter": "python",
   "pygments_lexer": "ipython3",
   "version": "3.11.0"
  }
 },
 "nbformat": 4,
 "nbformat_minor": 5
}
