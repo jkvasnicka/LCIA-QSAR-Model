{
 "cells": [
  {
   "cell_type": "markdown",
   "id": "97fb2dcb",
   "metadata": {},
   "source": [
    "# Get Chemical Identifiers: LCIA QSAR Project\n",
    "**Author:** Jacob Kvasnicka <br>\n",
    "**Date:** June 24, 2023\n",
    "\n",
    "Get chemical identifiers to use as inputs to the OPERA 2.9 user interface."
   ]
  },
  {
   "cell_type": "code",
   "execution_count": 1,
   "id": "59180b48",
   "metadata": {},
   "outputs": [],
   "source": [
    "import pandas as pd\n",
    "from os import path \n",
    "import re\n",
    "\n",
    "import pattern\n",
    "from config_management import UnifiedConfiguration\n",
    "\n",
    "config_mapping_path = 'Input\\configuration-mapping.json'\n",
    "config = UnifiedConfiguration(config_mapping_path)"
   ]
  },
  {
   "cell_type": "markdown",
   "id": "58b4678c",
   "metadata": {},
   "source": [
    "## Model development & training"
   ]
  },
  {
   "cell_type": "markdown",
   "id": "eef15d33",
   "metadata": {},
   "source": [
    "### Load the identifiers in their raw format"
   ]
  },
  {
   "cell_type": "code",
   "execution_count": 2,
   "id": "92c66958",
   "metadata": {},
   "outputs": [
    {
     "data": {
      "text/html": [
       "<div>\n",
       "<style scoped>\n",
       "    .dataframe tbody tr th:only-of-type {\n",
       "        vertical-align: middle;\n",
       "    }\n",
       "\n",
       "    .dataframe tbody tr th {\n",
       "        vertical-align: top;\n",
       "    }\n",
       "\n",
       "    .dataframe thead th {\n",
       "        text-align: right;\n",
       "    }\n",
       "</style>\n",
       "<table border=\"1\" class=\"dataframe\">\n",
       "  <thead>\n",
       "    <tr style=\"text-align: right;\">\n",
       "      <th></th>\n",
       "      <th>dtxsid</th>\n",
       "      <th>casrn</th>\n",
       "    </tr>\n",
       "  </thead>\n",
       "  <tbody>\n",
       "    <tr>\n",
       "      <th>0</th>\n",
       "      <td>DTXSID5020281</td>\n",
       "      <td>100-00-5</td>\n",
       "    </tr>\n",
       "    <tr>\n",
       "      <th>1</th>\n",
       "      <td>DTXSID8020961</td>\n",
       "      <td>100-01-6</td>\n",
       "    </tr>\n",
       "    <tr>\n",
       "      <th>2</th>\n",
       "      <td>DTXSID0021834</td>\n",
       "      <td>100-02-7</td>\n",
       "    </tr>\n",
       "    <tr>\n",
       "      <th>3</th>\n",
       "      <td>DTXSID3032622</td>\n",
       "      <td>10004-44-1</td>\n",
       "    </tr>\n",
       "    <tr>\n",
       "      <th>4</th>\n",
       "      <td>DTXSID2044347</td>\n",
       "      <td>100-06-1</td>\n",
       "    </tr>\n",
       "    <tr>\n",
       "      <th>...</th>\n",
       "      <td>...</td>\n",
       "      <td>...</td>\n",
       "    </tr>\n",
       "    <tr>\n",
       "      <th>10150</th>\n",
       "      <td>NODTXSID_NOCAS_Zeolite, synthetic, cryst</td>\n",
       "      <td>NOCAS_Zeolite, synthetic, crystalline, non fi</td>\n",
       "    </tr>\n",
       "    <tr>\n",
       "      <th>10151</th>\n",
       "      <td>NODTXSID_NOCAS_zinc 2-hydroxy-5-(C13-C18</td>\n",
       "      <td>NOCAS_zinc 2-hydroxy-5-(C13-C18)-alkylbenzoat</td>\n",
       "    </tr>\n",
       "    <tr>\n",
       "      <th>10152</th>\n",
       "      <td>NODTXSID_NOCAS_Zyclen</td>\n",
       "      <td>NOCAS_Zyclen</td>\n",
       "    </tr>\n",
       "    <tr>\n",
       "      <th>10153</th>\n",
       "      <td>NODTXSID_RN: 2778-42-9</td>\n",
       "      <td>RN: 2778-42-9</td>\n",
       "    </tr>\n",
       "    <tr>\n",
       "      <th>10154</th>\n",
       "      <td>NODTXSID_-00-000</td>\n",
       "      <td>-00-000</td>\n",
       "    </tr>\n",
       "  </tbody>\n",
       "</table>\n",
       "<p>10155 rows × 2 columns</p>\n",
       "</div>"
      ],
      "text/plain": [
       "                                         dtxsid  \\\n",
       "0                                 DTXSID5020281   \n",
       "1                                 DTXSID8020961   \n",
       "2                                 DTXSID0021834   \n",
       "3                                 DTXSID3032622   \n",
       "4                                 DTXSID2044347   \n",
       "...                                         ...   \n",
       "10150  NODTXSID_NOCAS_Zeolite, synthetic, cryst   \n",
       "10151  NODTXSID_NOCAS_zinc 2-hydroxy-5-(C13-C18   \n",
       "10152                     NODTXSID_NOCAS_Zyclen   \n",
       "10153                    NODTXSID_RN: 2778-42-9   \n",
       "10154                          NODTXSID_-00-000   \n",
       "\n",
       "                                               casrn  \n",
       "0                                           100-00-5  \n",
       "1                                           100-01-6  \n",
       "2                                           100-02-7  \n",
       "3                                         10004-44-1  \n",
       "4                                           100-06-1  \n",
       "...                                              ...  \n",
       "10150  NOCAS_Zeolite, synthetic, crystalline, non fi  \n",
       "10151  NOCAS_zinc 2-hydroxy-5-(C13-C18)-alkylbenzoat  \n",
       "10152                                   NOCAS_Zyclen  \n",
       "10153                                  RN: 2778-42-9  \n",
       "10154                                        -00-000  \n",
       "\n",
       "[10155 rows x 2 columns]"
      ]
     },
     "execution_count": 2,
     "metadata": {},
     "output_type": "execute_result"
    }
   ],
   "source": [
    "exposure_route = 'oral'\n",
    "\n",
    "# Define key-word arguments for pandas.read_excel().\n",
    "kwargs = {\n",
    "    'sheet_name': exposure_route.upper(),\n",
    "    'header': [0, 1]}\n",
    "\n",
    "identifiers = (\n",
    "    pd.read_excel(\n",
    "        config.path.raw_surrogate_pods_file, \n",
    "        **kwargs)\n",
    "    .droplevel(axis=1, level=0)\n",
    "    [['dtxsid', 'casrn']])\n",
    "\n",
    "identifiers"
   ]
  },
  {
   "cell_type": "markdown",
   "id": "ce62a100",
   "metadata": {},
   "source": [
    "### Extract the actual identifiers using regular expressions"
   ]
  },
  {
   "cell_type": "code",
   "execution_count": 3,
   "id": "1a84ba6b",
   "metadata": {},
   "outputs": [
    {
     "data": {
      "text/html": [
       "<div>\n",
       "<style scoped>\n",
       "    .dataframe tbody tr th:only-of-type {\n",
       "        vertical-align: middle;\n",
       "    }\n",
       "\n",
       "    .dataframe tbody tr th {\n",
       "        vertical-align: top;\n",
       "    }\n",
       "\n",
       "    .dataframe thead th {\n",
       "        text-align: right;\n",
       "    }\n",
       "</style>\n",
       "<table border=\"1\" class=\"dataframe\">\n",
       "  <thead>\n",
       "    <tr style=\"text-align: right;\">\n",
       "      <th></th>\n",
       "      <th>dtxsid</th>\n",
       "      <th>casrn</th>\n",
       "    </tr>\n",
       "  </thead>\n",
       "  <tbody>\n",
       "    <tr>\n",
       "      <th>0</th>\n",
       "      <td>DTXSID5020281</td>\n",
       "      <td>100-00-5</td>\n",
       "    </tr>\n",
       "    <tr>\n",
       "      <th>1</th>\n",
       "      <td>DTXSID8020961</td>\n",
       "      <td>100-01-6</td>\n",
       "    </tr>\n",
       "    <tr>\n",
       "      <th>2</th>\n",
       "      <td>DTXSID0021834</td>\n",
       "      <td>100-02-7</td>\n",
       "    </tr>\n",
       "    <tr>\n",
       "      <th>3</th>\n",
       "      <td>DTXSID3032622</td>\n",
       "      <td>10004-44-1</td>\n",
       "    </tr>\n",
       "    <tr>\n",
       "      <th>4</th>\n",
       "      <td>DTXSID2044347</td>\n",
       "      <td>100-06-1</td>\n",
       "    </tr>\n",
       "    <tr>\n",
       "      <th>...</th>\n",
       "      <td>...</td>\n",
       "      <td>...</td>\n",
       "    </tr>\n",
       "    <tr>\n",
       "      <th>10150</th>\n",
       "      <td>NaN</td>\n",
       "      <td>NaN</td>\n",
       "    </tr>\n",
       "    <tr>\n",
       "      <th>10151</th>\n",
       "      <td>NaN</td>\n",
       "      <td>NaN</td>\n",
       "    </tr>\n",
       "    <tr>\n",
       "      <th>10152</th>\n",
       "      <td>NaN</td>\n",
       "      <td>NaN</td>\n",
       "    </tr>\n",
       "    <tr>\n",
       "      <th>10153</th>\n",
       "      <td>NaN</td>\n",
       "      <td>2778-42-9</td>\n",
       "    </tr>\n",
       "    <tr>\n",
       "      <th>10154</th>\n",
       "      <td>NaN</td>\n",
       "      <td>NaN</td>\n",
       "    </tr>\n",
       "  </tbody>\n",
       "</table>\n",
       "<p>10155 rows × 2 columns</p>\n",
       "</div>"
      ],
      "text/plain": [
       "              dtxsid       casrn\n",
       "0      DTXSID5020281    100-00-5\n",
       "1      DTXSID8020961    100-01-6\n",
       "2      DTXSID0021834    100-02-7\n",
       "3      DTXSID3032622  10004-44-1\n",
       "4      DTXSID2044347    100-06-1\n",
       "...              ...         ...\n",
       "10150            NaN         NaN\n",
       "10151            NaN         NaN\n",
       "10152            NaN         NaN\n",
       "10153            NaN   2778-42-9\n",
       "10154            NaN         NaN\n",
       "\n",
       "[10155 rows x 2 columns]"
      ]
     },
     "execution_count": 3,
     "metadata": {},
     "output_type": "execute_result"
    }
   ],
   "source": [
    "pattern_for_col = {\n",
    "    'dtxsid': re.compile(pattern.dtxsid(as_group=True)),\n",
    "    'casrn': re.compile(pattern.casrn(as_group=True))\n",
    "}\n",
    "for col, pat in pattern_for_col.items():\n",
    "    identifiers.loc[:, col] = (\n",
    "        identifiers[col].str.extract(pat, expand=False))\n",
    "\n",
    "identifiers"
   ]
  },
  {
   "cell_type": "code",
   "execution_count": 4,
   "id": "6b086347",
   "metadata": {},
   "outputs": [
    {
     "data": {
      "text/plain": [
       "7550"
      ]
     },
     "execution_count": 4,
     "metadata": {},
     "output_type": "execute_result"
    }
   ],
   "source": [
    "identifiers['casrn'].notna().sum()"
   ]
  },
  {
   "cell_type": "code",
   "execution_count": 5,
   "id": "ef50c797",
   "metadata": {},
   "outputs": [
    {
     "data": {
      "text/plain": [
       "6598"
      ]
     },
     "execution_count": 5,
     "metadata": {},
     "output_type": "execute_result"
    }
   ],
   "source": [
    "identifiers['dtxsid'].notna().sum()"
   ]
  },
  {
   "cell_type": "code",
   "execution_count": 6,
   "id": "b2a164fc",
   "metadata": {},
   "outputs": [
    {
     "data": {
      "text/plain": [
       "0       DTXSID5020281\n",
       "1       DTXSID8020961\n",
       "2       DTXSID0021834\n",
       "3       DTXSID3032622\n",
       "4       DTXSID2044347\n",
       "            ...      \n",
       "8313    DTXSID5057882\n",
       "8314    DTXSID5057884\n",
       "8315    DTXSID0057885\n",
       "8316    DTXSID1057905\n",
       "8317    DTXSID6057906\n",
       "Name: dtxsid, Length: 6598, dtype: object"
      ]
     },
     "execution_count": 6,
     "metadata": {},
     "output_type": "execute_result"
    }
   ],
   "source": [
    "identifiers = identifiers['dtxsid'].dropna()\n",
    "\n",
    "identifiers"
   ]
  },
  {
   "cell_type": "code",
   "execution_count": 7,
   "id": "f4f6b5fa",
   "metadata": {},
   "outputs": [],
   "source": [
    "# Write contents to TXT file for batch download in OPERA.\n",
    "identifiers.to_csv(\n",
    "    config.path.chemical_id_dev_file, \n",
    "    header=None, \n",
    "    index=None, \n",
    "    sep=' '\n",
    ")"
   ]
  },
  {
   "cell_type": "markdown",
   "id": "067aada6",
   "metadata": {},
   "source": [
    "## Model application: Comparison with SEEM3 exposure predictions"
   ]
  },
  {
   "cell_type": "code",
   "execution_count": 8,
   "id": "11598240",
   "metadata": {},
   "outputs": [],
   "source": [
    "(\n",
    "    pd.read_csv(\n",
    "        config.path.seem3_exposure_file,\n",
    "        encoding='latin-1')\n",
    "    ['DTXSID']\n",
    "    .to_csv(\n",
    "        config.path.chemical_id_app_file,    \n",
    "        index=False, \n",
    "        header=False,\n",
    "        sep=' '\n",
    "    )\n",
    ")"
   ]
  },
  {
   "cell_type": "code",
   "execution_count": null,
   "id": "9c05436b",
   "metadata": {},
   "outputs": [],
   "source": []
  }
 ],
 "metadata": {
  "kernelspec": {
   "display_name": "chiu-lab",
   "language": "python",
   "name": "chiu-lab"
  },
  "language_info": {
   "codemirror_mode": {
    "name": "ipython",
    "version": 3
   },
   "file_extension": ".py",
   "mimetype": "text/x-python",
   "name": "python",
   "nbconvert_exporter": "python",
   "pygments_lexer": "ipython3",
   "version": "3.11.0"
  }
 },
 "nbformat": 4,
 "nbformat_minor": 5
}
