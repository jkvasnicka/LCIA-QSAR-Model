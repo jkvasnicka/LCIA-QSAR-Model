{
 "cells": [
  {
   "cell_type": "markdown",
   "id": "053b295b",
   "metadata": {},
   "source": [
    "# Sensitivity Analyses (Scratch)"
   ]
  },
  {
   "cell_type": "code",
   "execution_count": 1,
   "id": "0f52e7bb",
   "metadata": {},
   "outputs": [],
   "source": [
    "from joblib import load\n",
    "import pandas as pd \n",
    "import plot\n",
    "\n",
    "import os.path\n",
    "from configuration import BaseConfiguration\n",
    "\n",
    "config = BaseConfiguration('Input/plotting-configuration.json')"
   ]
  },
  {
   "cell_type": "markdown",
   "id": "843912af",
   "metadata": {},
   "source": [
    "## Compare estimators"
   ]
  },
  {
   "cell_type": "code",
   "execution_count": 3,
   "id": "6cec4fe4",
   "metadata": {},
   "outputs": [
    {
     "data": {
      "text/plain": [
       "[('general',\n",
       "  'opera',\n",
       "  'predicted',\n",
       "  'missing',\n",
       "  'with_selection',\n",
       "  'RandomForestRegressor'),\n",
       " ('general',\n",
       "  'opera',\n",
       "  'predicted',\n",
       "  'missing',\n",
       "  'with_selection',\n",
       "  'LinearRegression'),\n",
       " ('general', 'opera', 'predicted', 'missing', 'with_selection', 'Ridge'),\n",
       " ('general', 'opera', 'predicted', 'missing', 'with_selection', 'SVR'),\n",
       " ('general',\n",
       "  'opera',\n",
       "  'predicted',\n",
       "  'missing',\n",
       "  'with_selection',\n",
       "  'GradientBoostingRegressor'),\n",
       " ('general',\n",
       "  'opera',\n",
       "  'predicted',\n",
       "  'missing',\n",
       "  'with_selection',\n",
       "  'XGBRegressor'),\n",
       " ('general',\n",
       "  'opera',\n",
       "  'predicted',\n",
       "  'missing',\n",
       "  'with_selection',\n",
       "  'MLPRegressor'),\n",
       " ('repro_dev',\n",
       "  'opera',\n",
       "  'predicted',\n",
       "  'missing',\n",
       "  'with_selection',\n",
       "  'RandomForestRegressor'),\n",
       " ('repro_dev',\n",
       "  'opera',\n",
       "  'predicted',\n",
       "  'missing',\n",
       "  'with_selection',\n",
       "  'LinearRegression'),\n",
       " ('repro_dev', 'opera', 'predicted', 'missing', 'with_selection', 'Ridge'),\n",
       " ('repro_dev', 'opera', 'predicted', 'missing', 'with_selection', 'SVR'),\n",
       " ('repro_dev',\n",
       "  'opera',\n",
       "  'predicted',\n",
       "  'missing',\n",
       "  'with_selection',\n",
       "  'GradientBoostingRegressor'),\n",
       " ('repro_dev',\n",
       "  'opera',\n",
       "  'predicted',\n",
       "  'missing',\n",
       "  'with_selection',\n",
       "  'XGBRegressor'),\n",
       " ('repro_dev',\n",
       "  'opera',\n",
       "  'predicted',\n",
       "  'missing',\n",
       "  'with_selection',\n",
       "  'MLPRegressor')]"
      ]
     },
     "execution_count": 3,
     "metadata": {},
     "output_type": "execute_result"
    }
   ],
   "source": [
    "wf1 = load(os.path.join('Temporary', 'Sensitivity-Analyses', 'Estimators', 'workflow.joblib'))\n",
    "\n",
    "wf1.model_keys"
   ]
  },
  {
   "cell_type": "code",
   "execution_count": null,
   "id": "35c43a48",
   "metadata": {},
   "outputs": [],
   "source": []
  },
  {
   "cell_type": "markdown",
   "id": "aa01117c",
   "metadata": {},
   "source": [
    "## Compare datasets"
   ]
  },
  {
   "cell_type": "code",
   "execution_count": null,
   "id": "7979337b",
   "metadata": {},
   "outputs": [],
   "source": []
  }
 ],
 "metadata": {
  "kernelspec": {
   "display_name": "chiu-lab",
   "language": "python",
   "name": "chiu-lab"
  },
  "language_info": {
   "codemirror_mode": {
    "name": "ipython",
    "version": 3
   },
   "file_extension": ".py",
   "mimetype": "text/x-python",
   "name": "python",
   "nbconvert_exporter": "python",
   "pygments_lexer": "ipython3",
   "version": "3.11.0"
  }
 },
 "nbformat": 4,
 "nbformat_minor": 5
}
