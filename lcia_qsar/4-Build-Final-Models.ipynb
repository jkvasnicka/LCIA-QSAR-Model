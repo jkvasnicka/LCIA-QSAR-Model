{
 "cells": [
  {
   "cell_type": "markdown",
   "id": "2b983e18",
   "metadata": {},
   "source": [
    "# Build Final Models: LCIA QSAR Study\n",
    "**Date:** June 7, 2023"
   ]
  },
  {
   "cell_type": "code",
   "execution_count": 1,
   "id": "b2ec182a",
   "metadata": {},
   "outputs": [],
   "source": [
    "from configuration import UnifiedConfiguration\n",
    "from workflow_lcia import LciaQsarModelingWorkflow"
   ]
  },
  {
   "cell_type": "markdown",
   "id": "05624d5c",
   "metadata": {},
   "source": [
    "## Configure a workflow object"
   ]
  },
  {
   "cell_type": "code",
   "execution_count": 2,
   "id": "95a2b360",
   "metadata": {},
   "outputs": [],
   "source": [
    "config_file_dict = {\n",
    "    'path' : 'Input/path-configuration.json', \n",
    "    'model' : 'Input/model-configuration.json'\n",
    "}\n",
    "config = UnifiedConfiguration(config_file_dict)\n",
    "\n",
    "workflow = LciaQsarModelingWorkflow(config)"
   ]
  },
  {
   "cell_type": "markdown",
   "id": "389e85b0",
   "metadata": {},
   "source": [
    "## Build & evaluate final models"
   ]
  },
  {
   "cell_type": "code",
   "execution_count": 3,
   "id": "f74e4b86",
   "metadata": {
    "scrolled": false
   },
   "outputs": [
    {
     "name": "stdout",
     "output_type": "stream",
     "text": [
      "CPU times: total: 25.8 s\n",
      "Wall time: 49 s\n"
     ]
    }
   ],
   "source": [
    "%%time\n",
    "\n",
    "workflow.run(scores_to_csv=True)"
   ]
  },
  {
   "cell_type": "code",
   "execution_count": 4,
   "id": "fdcdc3f7",
   "metadata": {},
   "outputs": [
    {
     "data": {
      "text/plain": [
       "0.4912163265065467"
      ]
     },
     "execution_count": 4,
     "metadata": {},
     "output_type": "execute_result"
    }
   ],
   "source": [
    "performances = workflow.concatenate_history('performances')\n",
    "\n",
    "performances.mean().quantile()"
   ]
  },
  {
   "cell_type": "code",
   "execution_count": 9,
   "id": "0f79c211",
   "metadata": {},
   "outputs": [
    {
     "data": {
      "text/plain": [
       "0.4912163265065467"
      ]
     },
     "execution_count": 9,
     "metadata": {},
     "output_type": "execute_result"
    }
   ],
   "source": [
    "performances = workflow.concatenate_history('performances')\n",
    "\n",
    "performances.mean().quantile()"
   ]
  },
  {
   "cell_type": "code",
   "execution_count": 5,
   "id": "4cad35c5",
   "metadata": {},
   "outputs": [
    {
     "data": {
      "text/plain": [
       "0.0033113747680856703"
      ]
     },
     "execution_count": 5,
     "metadata": {},
     "output_type": "execute_result"
    }
   ],
   "source": [
    "importances = workflow.concatenate_history('importances_replicates')\n",
    "\n",
    "importances.mean().quantile()"
   ]
  },
  {
   "cell_type": "code",
   "execution_count": 10,
   "id": "9a0b5b6b",
   "metadata": {},
   "outputs": [
    {
     "data": {
      "text/plain": [
       "0.0033113747680856703"
      ]
     },
     "execution_count": 10,
     "metadata": {},
     "output_type": "execute_result"
    }
   ],
   "source": [
    "importances = workflow.concatenate_history('importances_replicates')\n",
    "\n",
    "importances.mean().quantile()"
   ]
  },
  {
   "cell_type": "code",
   "execution_count": null,
   "id": "679b1e63",
   "metadata": {},
   "outputs": [],
   "source": []
  }
 ],
 "metadata": {
  "kernelspec": {
   "display_name": "chiu-lab",
   "language": "python",
   "name": "chiu-lab"
  },
  "language_info": {
   "codemirror_mode": {
    "name": "ipython",
    "version": 3
   },
   "file_extension": ".py",
   "mimetype": "text/x-python",
   "name": "python",
   "nbconvert_exporter": "python",
   "pygments_lexer": "ipython3",
   "version": "3.11.0"
  }
 },
 "nbformat": 4,
 "nbformat_minor": 5
}
