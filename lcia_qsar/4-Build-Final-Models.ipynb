{
 "cells": [
  {
   "cell_type": "markdown",
   "id": "2b983e18",
   "metadata": {},
   "source": [
    "# Build Final Models: LCIA QSAR Study\n",
    "**Date:** June 7, 2023"
   ]
  },
  {
   "cell_type": "code",
   "execution_count": 1,
   "id": "b2ec182a",
   "metadata": {},
   "outputs": [],
   "source": [
    "from workflow_lcia import LciaQsarModelingWorkflow"
   ]
  },
  {
   "cell_type": "markdown",
   "id": "05624d5c",
   "metadata": {},
   "source": [
    "## Configure a workflow object"
   ]
  },
  {
   "cell_type": "code",
   "execution_count": 2,
   "id": "95a2b360",
   "metadata": {},
   "outputs": [],
   "source": [
    "workflow = LciaQsarModelingWorkflow(\n",
    "    'Input/path-configuration.json', \n",
    "    'Input/model-configuration.json'\n",
    ")"
   ]
  },
  {
   "cell_type": "markdown",
   "id": "389e85b0",
   "metadata": {},
   "source": [
    "## Build & evaluate final models"
   ]
  },
  {
   "cell_type": "code",
   "execution_count": 3,
   "id": "f74e4b86",
   "metadata": {},
   "outputs": [
    {
     "name": "stdout",
     "output_type": "stream",
     "text": [
      "CPU times: total: 25.4 s\n",
      "Wall time: 48.2 s\n"
     ]
    }
   ],
   "source": [
    "%%time\n",
    "\n",
    "workflow.run(scores_to_csv=True)"
   ]
  },
  {
   "cell_type": "code",
   "execution_count": null,
   "id": "9a0b5b6b",
   "metadata": {},
   "outputs": [],
   "source": []
  }
 ],
 "metadata": {
  "kernelspec": {
   "display_name": "chiu-lab",
   "language": "python",
   "name": "chiu-lab"
  },
  "language_info": {
   "codemirror_mode": {
    "name": "ipython",
    "version": 3
   },
   "file_extension": ".py",
   "mimetype": "text/x-python",
   "name": "python",
   "nbconvert_exporter": "python",
   "pygments_lexer": "ipython3",
   "version": "3.11.0"
  }
 },
 "nbformat": 4,
 "nbformat_minor": 5
}
