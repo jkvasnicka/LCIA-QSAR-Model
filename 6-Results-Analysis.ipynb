{
 "cells": [
  {
   "cell_type": "markdown",
   "id": "66daa3ed",
   "metadata": {},
   "source": [
    "# Results Analysis: LCIA QSAR Modeling Framework\n",
    "**Date:** August, 31, 2023 <br>\n",
    "**Author:** Jacob Kvasnicka"
   ]
  },
  {
   "cell_type": "code",
   "execution_count": 1,
   "id": "461709da",
   "metadata": {},
   "outputs": [],
   "source": [
    "import matplotlib\n",
    "# matplotlib.use('Agg')  # avoids rendering figures\n",
    "import matplotlib.pyplot as plt\n",
    "\n",
    "import pandas as pd\n",
    "import numpy as np\n",
    "\n",
    "from config_management import UnifiedConfiguration\n",
    "from data_management import DataManager\n",
    "from metrics_management import MetricsManager\n",
    "from results_management import ResultsManager\n",
    "from results_analysis import ResultsAnalyzer\n",
    "from plotting.moe import MOE_CATEGORIES\n",
    "\n",
    "config_mapping_path = 'Input\\configuration-mapping.json'\n",
    "config = UnifiedConfiguration(config_mapping_path)\n",
    "\n",
    "data_manager = DataManager(config.data, config.path)\n",
    "metrics_manager = MetricsManager(config.category_to_dict('metric'))\n",
    "results_manager = ResultsManager(\n",
    "    output_dir='Results',\n",
    "    results_file_type=config.data.file_type\n",
    ")\n",
    "results_analyzer = ResultsAnalyzer(\n",
    "    results_manager, \n",
    "    data_manager, \n",
    "    config.path.seem3_exposure_file\n",
    ")\n",
    "\n",
    "key_for_effect = {\n",
    "    'general' : {\n",
    "      \"target_effect\" : \"general\",\n",
    "      \"features_source\" : \"opera\",\n",
    "      \"ld50_type\" : \"predicted\",\n",
    "      \"data_condition\" : \"missing\",\n",
    "      \"select_features\" : \"true\",\n",
    "      \"estimators\" : \"RandomForestRegressor\"\n",
    "    },\n",
    "\n",
    "    'repro_dev' : {\n",
    "      \"target_effect\" : \"repro_dev\",\n",
    "      \"features_source\" : \"opera\",\n",
    "      \"ld50_type\" : \"predicted\",\n",
    "      \"data_condition\" : \"missing\",\n",
    "      \"select_features\" : \"true\",\n",
    "      \"estimators\" : \"RandomForestRegressor\"\n",
    "    }\n",
    "}\n",
    "\n",
    "def get_model_key(effect):\n",
    "    return tuple(key_for_effect[effect].values())\n",
    "\n",
    "percentiles = [0.05, 0.5, 0.95]"
   ]
  },
  {
   "cell_type": "markdown",
   "id": "7f0fdea9",
   "metadata": {},
   "source": [
    "## Dataset Characterization"
   ]
  },
  {
   "cell_type": "code",
   "execution_count": 2,
   "id": "40aa2a31",
   "metadata": {},
   "outputs": [],
   "source": [
    "def percents_missing(X):\n",
    "    '''\n",
    "    Compute the percentages of samples with complete data for each feature.\n",
    "    '''\n",
    "    return ((X.isna().sum() / len(X)).sort_values(ascending=False).round(2) * 100).head()"
   ]
  },
  {
   "cell_type": "code",
   "execution_count": 3,
   "id": "2734258f",
   "metadata": {},
   "outputs": [
    {
     "data": {
      "text/plain": [
       "BioDeg_HalfLife_pred    73.0\n",
       "OH_pred                 42.0\n",
       "CACO2_pred              35.0\n",
       "Clint_pred              19.0\n",
       "FUB_pred                13.0\n",
       "dtype: float64"
      ]
     },
     "execution_count": 3,
     "metadata": {},
     "output_type": "execute_result"
    }
   ],
   "source": [
    "features_path = config.path.file_for_features_source['opera']\n",
    "\n",
    "X = pd.read_csv(features_path, index_col=0)\n",
    "\n",
    "percents_missing(X)"
   ]
  },
  {
   "cell_type": "code",
   "execution_count": 4,
   "id": "41089f5b",
   "metadata": {},
   "outputs": [
    {
     "name": "stdout",
     "output_type": "stream",
     "text": [
      "general\n",
      "BioDeg_HalfLife_pred    74.0\n",
      "CACO2_pred              49.0\n",
      "OH_pred                 44.0\n",
      "KOA_pred                23.0\n",
      "KM_pred                 23.0\n",
      "dtype: float64\n",
      "repro_dev\n",
      "BioDeg_HalfLife_pred    75.0\n",
      "CACO2_pred              49.0\n",
      "OH_pred                 45.0\n",
      "KM_pred                 25.0\n",
      "Clint_pred              24.0\n",
      "dtype: float64\n"
     ]
    }
   ],
   "source": [
    "for effect in key_for_effect:\n",
    "    \n",
    "    print(effect)\n",
    "    \n",
    "    X, y = results_analyzer.load_features_and_target(**key_for_effect[effect])\n",
    "    \n",
    "    print(percents_missing(X))"
   ]
  },
  {
   "cell_type": "markdown",
   "id": "f8484deb",
   "metadata": {},
   "source": [
    "## Model Evaluation & Important Features"
   ]
  },
  {
   "cell_type": "code",
   "execution_count": 24,
   "id": "71a32eab",
   "metadata": {},
   "outputs": [],
   "source": [
    "def describe_result(effect, result_type):\n",
    "    '''\n",
    "    Return the summary statistics with confidence interval.\n",
    "    '''    \n",
    "    if 'importances' in result_type:\n",
    "        metrics = list(config.plot.label_for_scoring)\n",
    "    else: \n",
    "        metrics = list(config.plot.label_for_metric)\n",
    "        other_metric = 'mean_absolute_error'\n",
    "        if other_metric not in metrics:\n",
    "            metrics.append(other_metric)\n",
    "            \n",
    "    if 'root_mean_squared_error' in metrics:\n",
    "        metrics.append('gsd_squared')\n",
    "        # Compute GSD squared.     \n",
    "        performances = results_analyzer.read_result(get_model_key(effect), result_type)\n",
    "        rmse = performances['root_mean_squared_error']\n",
    "        gsd = 10**rmse  # in natural units\n",
    "        performances['gsd_squared'] = gsd**2\n",
    "\n",
    "    desc = performances.describe(percentiles=percentiles)[metrics].round(2)\n",
    "    \n",
    "    return desc.loc[[k for k in desc.index if '%' in k]].T"
   ]
  },
  {
   "cell_type": "code",
   "execution_count": 25,
   "id": "ca9eaf73",
   "metadata": {},
   "outputs": [
    {
     "data": {
      "text/html": [
       "<div>\n",
       "<style scoped>\n",
       "    .dataframe tbody tr th:only-of-type {\n",
       "        vertical-align: middle;\n",
       "    }\n",
       "\n",
       "    .dataframe tbody tr th {\n",
       "        vertical-align: top;\n",
       "    }\n",
       "\n",
       "    .dataframe thead th {\n",
       "        text-align: right;\n",
       "    }\n",
       "</style>\n",
       "<table border=\"1\" class=\"dataframe\">\n",
       "  <thead>\n",
       "    <tr style=\"text-align: right;\">\n",
       "      <th></th>\n",
       "      <th>5%</th>\n",
       "      <th>50%</th>\n",
       "      <th>95%</th>\n",
       "    </tr>\n",
       "    <tr>\n",
       "      <th>metric</th>\n",
       "      <th></th>\n",
       "      <th></th>\n",
       "      <th></th>\n",
       "    </tr>\n",
       "  </thead>\n",
       "  <tbody>\n",
       "    <tr>\n",
       "      <th>root_mean_squared_error</th>\n",
       "      <td>0.64</td>\n",
       "      <td>0.69</td>\n",
       "      <td>0.75</td>\n",
       "    </tr>\n",
       "    <tr>\n",
       "      <th>median_absolute_error</th>\n",
       "      <td>0.36</td>\n",
       "      <td>0.40</td>\n",
       "      <td>0.44</td>\n",
       "    </tr>\n",
       "    <tr>\n",
       "      <th>r2_score</th>\n",
       "      <td>0.42</td>\n",
       "      <td>0.48</td>\n",
       "      <td>0.53</td>\n",
       "    </tr>\n",
       "    <tr>\n",
       "      <th>mean_absolute_error</th>\n",
       "      <td>0.48</td>\n",
       "      <td>0.52</td>\n",
       "      <td>0.55</td>\n",
       "    </tr>\n",
       "    <tr>\n",
       "      <th>gsd_squared</th>\n",
       "      <td>19.13</td>\n",
       "      <td>23.98</td>\n",
       "      <td>31.86</td>\n",
       "    </tr>\n",
       "  </tbody>\n",
       "</table>\n",
       "</div>"
      ],
      "text/plain": [
       "                            5%    50%    95%\n",
       "metric                                      \n",
       "root_mean_squared_error   0.64   0.69   0.75\n",
       "median_absolute_error     0.36   0.40   0.44\n",
       "r2_score                  0.42   0.48   0.53\n",
       "mean_absolute_error       0.48   0.52   0.55\n",
       "gsd_squared              19.13  23.98  31.86"
      ]
     },
     "execution_count": 25,
     "metadata": {},
     "output_type": "execute_result"
    }
   ],
   "source": [
    "describe_result('general', 'performances')"
   ]
  },
  {
   "cell_type": "code",
   "execution_count": 26,
   "id": "dc567ec0",
   "metadata": {},
   "outputs": [
    {
     "data": {
      "text/html": [
       "<div>\n",
       "<style scoped>\n",
       "    .dataframe tbody tr th:only-of-type {\n",
       "        vertical-align: middle;\n",
       "    }\n",
       "\n",
       "    .dataframe tbody tr th {\n",
       "        vertical-align: top;\n",
       "    }\n",
       "\n",
       "    .dataframe thead th {\n",
       "        text-align: right;\n",
       "    }\n",
       "</style>\n",
       "<table border=\"1\" class=\"dataframe\">\n",
       "  <thead>\n",
       "    <tr style=\"text-align: right;\">\n",
       "      <th></th>\n",
       "      <th>5%</th>\n",
       "      <th>50%</th>\n",
       "      <th>95%</th>\n",
       "    </tr>\n",
       "    <tr>\n",
       "      <th>metric</th>\n",
       "      <th></th>\n",
       "      <th></th>\n",
       "      <th></th>\n",
       "    </tr>\n",
       "  </thead>\n",
       "  <tbody>\n",
       "    <tr>\n",
       "      <th>root_mean_squared_error</th>\n",
       "      <td>0.53</td>\n",
       "      <td>0.58</td>\n",
       "      <td>0.72</td>\n",
       "    </tr>\n",
       "    <tr>\n",
       "      <th>median_absolute_error</th>\n",
       "      <td>0.28</td>\n",
       "      <td>0.31</td>\n",
       "      <td>0.34</td>\n",
       "    </tr>\n",
       "    <tr>\n",
       "      <th>r2_score</th>\n",
       "      <td>0.39</td>\n",
       "      <td>0.50</td>\n",
       "      <td>0.56</td>\n",
       "    </tr>\n",
       "    <tr>\n",
       "      <th>mean_absolute_error</th>\n",
       "      <td>0.39</td>\n",
       "      <td>0.42</td>\n",
       "      <td>0.45</td>\n",
       "    </tr>\n",
       "    <tr>\n",
       "      <th>gsd_squared</th>\n",
       "      <td>11.41</td>\n",
       "      <td>14.40</td>\n",
       "      <td>27.30</td>\n",
       "    </tr>\n",
       "  </tbody>\n",
       "</table>\n",
       "</div>"
      ],
      "text/plain": [
       "                            5%    50%    95%\n",
       "metric                                      \n",
       "root_mean_squared_error   0.53   0.58   0.72\n",
       "median_absolute_error     0.28   0.31   0.34\n",
       "r2_score                  0.39   0.50   0.56\n",
       "mean_absolute_error       0.39   0.42   0.45\n",
       "gsd_squared              11.41  14.40  27.30"
      ]
     },
     "execution_count": 26,
     "metadata": {},
     "output_type": "execute_result"
    }
   ],
   "source": [
    "describe_result('repro_dev', 'performances')"
   ]
  },
  {
   "cell_type": "code",
   "execution_count": 8,
   "id": "ecc3208e",
   "metadata": {},
   "outputs": [],
   "source": [
    "important_features = {}\n",
    "\n",
    "for effect in key_for_effect:\n",
    "    \n",
    "    important_features[effect] = set(results_analyzer.get_important_features(get_model_key(effect)))"
   ]
  },
  {
   "cell_type": "code",
   "execution_count": 9,
   "id": "da3c9ab4",
   "metadata": {},
   "outputs": [
    {
     "data": {
      "text/plain": [
       "{'CATMoS_LD50_pred',\n",
       " 'CombDipolPolariz',\n",
       " 'ReadyBiodeg_pred_discrete',\n",
       " 'WS_pred',\n",
       " 'nbN_discrete'}"
      ]
     },
     "execution_count": 9,
     "metadata": {},
     "output_type": "execute_result"
    }
   ],
   "source": [
    "important_features['general'].intersection(important_features['repro_dev'])"
   ]
  },
  {
   "cell_type": "code",
   "execution_count": 10,
   "id": "c5c2d96b",
   "metadata": {},
   "outputs": [
    {
     "data": {
      "text/plain": [
       "{'MP_pred', 'P_pred', 'TopoPolSurfAir', 'VP_pred', 'ndHBdDon_discrete'}"
      ]
     },
     "execution_count": 10,
     "metadata": {},
     "output_type": "execute_result"
    }
   ],
   "source": [
    "important_features['general'].difference(important_features['repro_dev'])"
   ]
  },
  {
   "cell_type": "code",
   "execution_count": 11,
   "id": "bd7ec213",
   "metadata": {},
   "outputs": [
    {
     "data": {
      "text/plain": [
       "{'BCF_pred', 'FUB_pred', 'KM_pred', 'Koc_pred', 'Sp3Sp2HybRatio'}"
      ]
     },
     "execution_count": 11,
     "metadata": {},
     "output_type": "execute_result"
    }
   ],
   "source": [
    "important_features['repro_dev'].difference(important_features['general'])"
   ]
  },
  {
   "cell_type": "markdown",
   "id": "f78cb339",
   "metadata": {},
   "source": [
    "## Sensitivity Analysis"
   ]
  },
  {
   "cell_type": "code",
   "execution_count": null,
   "id": "57c6f7f2",
   "metadata": {},
   "outputs": [],
   "source": []
  },
  {
   "cell_type": "markdown",
   "id": "39ca3bf0",
   "metadata": {},
   "source": [
    "## Model Application"
   ]
  },
  {
   "cell_type": "markdown",
   "id": "1e18b52e",
   "metadata": {},
   "source": [
    "### Cumulative POD distributions"
   ]
  },
  {
   "cell_type": "code",
   "execution_count": 12,
   "id": "8a1c7edb",
   "metadata": {},
   "outputs": [
    {
     "data": {
      "text/html": [
       "<div>\n",
       "<style scoped>\n",
       "    .dataframe tbody tr th:only-of-type {\n",
       "        vertical-align: middle;\n",
       "    }\n",
       "\n",
       "    .dataframe tbody tr th {\n",
       "        vertical-align: top;\n",
       "    }\n",
       "\n",
       "    .dataframe thead th {\n",
       "        text-align: right;\n",
       "    }\n",
       "</style>\n",
       "<table border=\"1\" class=\"dataframe\">\n",
       "  <thead>\n",
       "    <tr style=\"text-align: right;\">\n",
       "      <th></th>\n",
       "      <th>Regulatory</th>\n",
       "      <th>ToxValDB</th>\n",
       "      <th>QSAR</th>\n",
       "    </tr>\n",
       "  </thead>\n",
       "  <tbody>\n",
       "    <tr>\n",
       "      <th>0.05</th>\n",
       "      <td>0.0</td>\n",
       "      <td>0.4</td>\n",
       "      <td>0.3</td>\n",
       "    </tr>\n",
       "    <tr>\n",
       "      <th>0.50</th>\n",
       "      <td>4.0</td>\n",
       "      <td>13.0</td>\n",
       "      <td>12.8</td>\n",
       "    </tr>\n",
       "    <tr>\n",
       "      <th>0.95</th>\n",
       "      <td>248.6</td>\n",
       "      <td>175.7</td>\n",
       "      <td>268.6</td>\n",
       "    </tr>\n",
       "  </tbody>\n",
       "</table>\n",
       "</div>"
      ],
      "text/plain": [
       "      Regulatory  ToxValDB   QSAR\n",
       "0.05         0.0       0.4    0.3\n",
       "0.50         4.0      13.0   12.8\n",
       "0.95       248.6     175.7  268.6"
      ]
     },
     "execution_count": 12,
     "metadata": {},
     "output_type": "execute_result"
    }
   ],
   "source": [
    "pod_data = {\n",
    "    effect : results_analyzer.get_pod_comparison_data(get_model_key(effect)) \n",
    "    for effect in key_for_effect\n",
    "}\n",
    "\n",
    "# Inverse transform the PODs from log10\n",
    "(10**pd.DataFrame(pod_data['general']).quantile(percentiles)).round(1)"
   ]
  },
  {
   "cell_type": "code",
   "execution_count": 13,
   "id": "95dd63c4",
   "metadata": {},
   "outputs": [
    {
     "data": {
      "text/html": [
       "<div>\n",
       "<style scoped>\n",
       "    .dataframe tbody tr th:only-of-type {\n",
       "        vertical-align: middle;\n",
       "    }\n",
       "\n",
       "    .dataframe tbody tr th {\n",
       "        vertical-align: top;\n",
       "    }\n",
       "\n",
       "    .dataframe thead th {\n",
       "        text-align: right;\n",
       "    }\n",
       "</style>\n",
       "<table border=\"1\" class=\"dataframe\">\n",
       "  <thead>\n",
       "    <tr style=\"text-align: right;\">\n",
       "      <th></th>\n",
       "      <th>Regulatory</th>\n",
       "      <th>ToxValDB</th>\n",
       "      <th>QSAR</th>\n",
       "    </tr>\n",
       "  </thead>\n",
       "  <tbody>\n",
       "    <tr>\n",
       "      <th>0.05</th>\n",
       "      <td>0.1</td>\n",
       "      <td>1.9</td>\n",
       "      <td>1.1</td>\n",
       "    </tr>\n",
       "    <tr>\n",
       "      <th>0.50</th>\n",
       "      <td>4.3</td>\n",
       "      <td>46.7</td>\n",
       "      <td>49.0</td>\n",
       "    </tr>\n",
       "    <tr>\n",
       "      <th>0.95</th>\n",
       "      <td>87.9</td>\n",
       "      <td>246.8</td>\n",
       "      <td>331.8</td>\n",
       "    </tr>\n",
       "  </tbody>\n",
       "</table>\n",
       "</div>"
      ],
      "text/plain": [
       "      Regulatory  ToxValDB   QSAR\n",
       "0.05         0.1       1.9    1.1\n",
       "0.50         4.3      46.7   49.0\n",
       "0.95        87.9     246.8  331.8"
      ]
     },
     "execution_count": 13,
     "metadata": {},
     "output_type": "execute_result"
    }
   ],
   "source": [
    "(10**pd.DataFrame(pod_data['repro_dev']).quantile(percentiles)).round(1)"
   ]
  },
  {
   "cell_type": "markdown",
   "id": "2af68796",
   "metadata": {},
   "source": [
    "### Margins of exposure with cumulative counts"
   ]
  },
  {
   "cell_type": "code",
   "execution_count": 27,
   "id": "eb17a83c",
   "metadata": {},
   "outputs": [
    {
     "name": "stdout",
     "output_type": "stream",
     "text": [
      "For general effects:\n",
      "\t4600 chemicals potential_concern\n",
      "\t740 chemicals definite_concern\n",
      "For repro_dev effects:\n",
      "\t2580 chemicals potential_concern\n",
      "\t280 chemicals definite_concern\n"
     ]
    }
   ],
   "source": [
    "# Get the upper bounds of the MOE concern categories\n",
    "thres_for_concern = {\n",
    "    k.lower().replace(' ', '_') : bounds[-1] \n",
    "    for k, bounds in MOE_CATEGORIES.items()\n",
    "}\n",
    "\n",
    "for effect in key_for_effect:\n",
    "    print(f'For {effect} effects:')\n",
    "\n",
    "    results_for_percentile = results_analyzer.moe_and_prediction_intervals(get_model_key(effect))\n",
    "\n",
    "    # Get the upper bound of exposure uncertainty\n",
    "    ub_exposure_results = results_for_percentile['95th percentile (mg/kg/day)']\n",
    "    # Get MOEs for the lower bound of the POD prediction interval\n",
    "    moes = ub_exposure_results['lb']\n",
    "\n",
    "    for concern, concern_threshold in thres_for_concern.items():\n",
    "        where_potential_concern = moes <= concern_threshold\n",
    "        concern_count = ub_exposure_results.loc[where_potential_concern]['cum_count'][-1]\n",
    "        print(f'\\t{round(concern_count, -1)} chemicals {concern}')"
   ]
  },
  {
   "cell_type": "code",
   "execution_count": 15,
   "id": "4d55beff",
   "metadata": {},
   "outputs": [
    {
     "name": "stdout",
     "output_type": "stream",
     "text": [
      "Typical exposure uncertainty: 4 log10-units\n"
     ]
    }
   ],
   "source": [
    "exposure_df = results_analyzer.load_exposure_data()\n",
    "\n",
    "exposure_difference = (\n",
    "    exposure_df['95th percentile (mg/kg/day)'] \n",
    "    - exposure_df['5th percentile (mg/kg/day)']\n",
    ")\n",
    "\n",
    "typical_uncertainty = exposure_difference.median()\n",
    "\n",
    "print(f'Typical exposure uncertainty: {round(typical_uncertainty)} log10-units')"
   ]
  },
  {
   "cell_type": "code",
   "execution_count": null,
   "id": "6aabdc47",
   "metadata": {},
   "outputs": [],
   "source": []
  }
 ],
 "metadata": {
  "kernelspec": {
   "display_name": "chiu-lab",
   "language": "python",
   "name": "chiu-lab"
  },
  "language_info": {
   "codemirror_mode": {
    "name": "ipython",
    "version": 3
   },
   "file_extension": ".py",
   "mimetype": "text/x-python",
   "name": "python",
   "nbconvert_exporter": "python",
   "pygments_lexer": "ipython3",
   "version": "3.11.0"
  }
 },
 "nbformat": 4,
 "nbformat_minor": 5
}
