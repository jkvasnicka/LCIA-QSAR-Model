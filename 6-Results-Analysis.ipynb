{
 "cells": [
  {
   "cell_type": "markdown",
   "id": "66daa3ed",
   "metadata": {},
   "source": [
    "# Results Analysis: LCIA QSAR Modeling Framework\n",
    "**Date:** August, 31, 2023 <br>\n",
    "**Author:** Jacob Kvasnicka"
   ]
  },
  {
   "cell_type": "code",
   "execution_count": 1,
   "id": "461709da",
   "metadata": {},
   "outputs": [],
   "source": [
    "import matplotlib\n",
    "# matplotlib.use('Agg')  # avoids rendering figures\n",
    "import matplotlib.pyplot as plt\n",
    "\n",
    "import pandas as pd\n",
    "import numpy as np\n",
    "\n",
    "from config_management import UnifiedConfiguration\n",
    "from data_management import DataManager\n",
    "from metrics_management import MetricsManager\n",
    "from results_management import ResultsManager\n",
    "from results_analysis import ResultsAnalyzer\n",
    "from plotting.moe import MOE_CATEGORIES\n",
    "\n",
    "config_mapping_path = 'Input\\configuration-mapping.json'\n",
    "config = UnifiedConfiguration(config_mapping_path)\n",
    "\n",
    "data_manager = DataManager(config.data, config.path)\n",
    "metrics_manager = MetricsManager(config.category_to_dict('metric'))\n",
    "results_manager = ResultsManager(\n",
    "    output_dir='Results',\n",
    "    results_file_type=config.data.file_type\n",
    ")\n",
    "results_analyzer = ResultsAnalyzer(\n",
    "    results_manager, \n",
    "    data_manager\n",
    ")\n",
    "\n",
    "key_for_effect = {\n",
    "    'general' : {\n",
    "      \"target_effect\" : \"general\",\n",
    "      \"features_source\" : \"opera\",\n",
    "      \"ld50_type\" : \"predicted\",\n",
    "      \"data_condition\" : \"missing\",\n",
    "      \"select_features\" : \"true\",\n",
    "      \"estimators\" : \"RandomForestRegressor\"\n",
    "    },\n",
    "\n",
    "    'repro_dev' : {\n",
    "      \"target_effect\" : \"repro_dev\",\n",
    "      \"features_source\" : \"opera\",\n",
    "      \"ld50_type\" : \"predicted\",\n",
    "      \"data_condition\" : \"missing\",\n",
    "      \"select_features\" : \"true\",\n",
    "      \"estimators\" : \"RandomForestRegressor\"\n",
    "    }\n",
    "}\n",
    "\n",
    "def get_model_key(effect):\n",
    "    return tuple(key_for_effect[effect].values())\n",
    "\n",
    "percentiles = [0.05, 0.5, 0.95]"
   ]
  },
  {
   "cell_type": "markdown",
   "id": "7f0fdea9",
   "metadata": {},
   "source": [
    "## Dataset Characterization"
   ]
  },
  {
   "cell_type": "code",
   "execution_count": 2,
   "id": "40aa2a31",
   "metadata": {},
   "outputs": [],
   "source": [
    "def percents_missing(X):\n",
    "    '''\n",
    "    Compute the percentages of samples with complete data for each feature.\n",
    "    '''\n",
    "    return ((X.isna().sum() / len(X)).sort_values(ascending=False).round(2) * 100).head()"
   ]
  },
  {
   "cell_type": "code",
   "execution_count": 3,
   "id": "2734258f",
   "metadata": {},
   "outputs": [
    {
     "data": {
      "text/plain": [
       "BioDeg_HalfLife_pred    73.0\n",
       "OH_pred                 42.0\n",
       "CACO2_pred              35.0\n",
       "Clint_pred              19.0\n",
       "FUB_pred                13.0\n",
       "dtype: float64"
      ]
     },
     "execution_count": 3,
     "metadata": {},
     "output_type": "execute_result"
    }
   ],
   "source": [
    "features_path = config.path.file_for_features_source['opera']\n",
    "\n",
    "X = pd.read_parquet(features_path)\n",
    "\n",
    "percents_missing(X)"
   ]
  },
  {
   "cell_type": "code",
   "execution_count": 4,
   "id": "41089f5b",
   "metadata": {},
   "outputs": [
    {
     "name": "stdout",
     "output_type": "stream",
     "text": [
      "general\n",
      "BioDeg_HalfLife_pred    74.0\n",
      "CACO2_pred              49.0\n",
      "OH_pred                 44.0\n",
      "KOA_pred                23.0\n",
      "KM_pred                 23.0\n",
      "dtype: float64\n",
      "repro_dev\n",
      "BioDeg_HalfLife_pred    75.0\n",
      "CACO2_pred              49.0\n",
      "OH_pred                 45.0\n",
      "KM_pred                 25.0\n",
      "Clint_pred              24.0\n",
      "dtype: float64\n"
     ]
    }
   ],
   "source": [
    "for effect in key_for_effect:\n",
    "    \n",
    "    print(effect)\n",
    "    \n",
    "    X, y = results_analyzer.load_features_and_target(**key_for_effect[effect])\n",
    "    \n",
    "    print(percents_missing(X))"
   ]
  },
  {
   "cell_type": "markdown",
   "id": "f8484deb",
   "metadata": {},
   "source": [
    "## Model Evaluation & Important Features"
   ]
  },
  {
   "cell_type": "code",
   "execution_count": 5,
   "id": "71a32eab",
   "metadata": {},
   "outputs": [],
   "source": [
    "def describe_result(effect, result_type):\n",
    "    '''\n",
    "    Return the summary statistics with confidence interval.\n",
    "    '''    \n",
    "    if 'importances' in result_type:\n",
    "        metrics = list(config.plot.label_for_scoring)\n",
    "    else: \n",
    "        metrics = list(config.plot.label_for_metric)\n",
    "        other_metric = 'mean_absolute_error'\n",
    "        if other_metric not in metrics:\n",
    "            metrics.append(other_metric)\n",
    "            \n",
    "    if 'root_mean_squared_error' in metrics:\n",
    "        metrics.append('gsd_squared')\n",
    "        # Compute GSD squared.     \n",
    "        performances = results_analyzer.read_result(get_model_key(effect), result_type)\n",
    "        rmse = performances['root_mean_squared_error']\n",
    "        gsd = 10**rmse  # in natural units\n",
    "        performances['gsd_squared'] = gsd**2\n",
    "\n",
    "    desc = performances.describe(percentiles=percentiles)[metrics].round(2)\n",
    "    \n",
    "    return desc.loc[[k for k in desc.index if '%' in k]].T"
   ]
  },
  {
   "cell_type": "code",
   "execution_count": 6,
   "id": "ca9eaf73",
   "metadata": {},
   "outputs": [
    {
     "data": {
      "text/html": [
       "<div>\n",
       "<style scoped>\n",
       "    .dataframe tbody tr th:only-of-type {\n",
       "        vertical-align: middle;\n",
       "    }\n",
       "\n",
       "    .dataframe tbody tr th {\n",
       "        vertical-align: top;\n",
       "    }\n",
       "\n",
       "    .dataframe thead th {\n",
       "        text-align: right;\n",
       "    }\n",
       "</style>\n",
       "<table border=\"1\" class=\"dataframe\">\n",
       "  <thead>\n",
       "    <tr style=\"text-align: right;\">\n",
       "      <th></th>\n",
       "      <th>5%</th>\n",
       "      <th>50%</th>\n",
       "      <th>95%</th>\n",
       "    </tr>\n",
       "    <tr>\n",
       "      <th>metric</th>\n",
       "      <th></th>\n",
       "      <th></th>\n",
       "      <th></th>\n",
       "    </tr>\n",
       "  </thead>\n",
       "  <tbody>\n",
       "    <tr>\n",
       "      <th>root_mean_squared_error</th>\n",
       "      <td>0.69</td>\n",
       "      <td>0.71</td>\n",
       "      <td>0.74</td>\n",
       "    </tr>\n",
       "    <tr>\n",
       "      <th>median_absolute_error</th>\n",
       "      <td>0.41</td>\n",
       "      <td>0.42</td>\n",
       "      <td>0.42</td>\n",
       "    </tr>\n",
       "    <tr>\n",
       "      <th>r2_score</th>\n",
       "      <td>0.43</td>\n",
       "      <td>0.45</td>\n",
       "      <td>0.47</td>\n",
       "    </tr>\n",
       "    <tr>\n",
       "      <th>mean_absolute_error</th>\n",
       "      <td>0.52</td>\n",
       "      <td>0.53</td>\n",
       "      <td>0.54</td>\n",
       "    </tr>\n",
       "    <tr>\n",
       "      <th>gsd_squared</th>\n",
       "      <td>24.01</td>\n",
       "      <td>26.89</td>\n",
       "      <td>29.77</td>\n",
       "    </tr>\n",
       "  </tbody>\n",
       "</table>\n",
       "</div>"
      ],
      "text/plain": [
       "                            5%    50%    95%\n",
       "metric                                      \n",
       "root_mean_squared_error   0.69   0.71   0.74\n",
       "median_absolute_error     0.41   0.42   0.42\n",
       "r2_score                  0.43   0.45   0.47\n",
       "mean_absolute_error       0.52   0.53   0.54\n",
       "gsd_squared              24.01  26.89  29.77"
      ]
     },
     "execution_count": 6,
     "metadata": {},
     "output_type": "execute_result"
    }
   ],
   "source": [
    "describe_result('general', 'performances')"
   ]
  },
  {
   "cell_type": "code",
   "execution_count": 7,
   "id": "dc567ec0",
   "metadata": {},
   "outputs": [
    {
     "data": {
      "text/html": [
       "<div>\n",
       "<style scoped>\n",
       "    .dataframe tbody tr th:only-of-type {\n",
       "        vertical-align: middle;\n",
       "    }\n",
       "\n",
       "    .dataframe tbody tr th {\n",
       "        vertical-align: top;\n",
       "    }\n",
       "\n",
       "    .dataframe thead th {\n",
       "        text-align: right;\n",
       "    }\n",
       "</style>\n",
       "<table border=\"1\" class=\"dataframe\">\n",
       "  <thead>\n",
       "    <tr style=\"text-align: right;\">\n",
       "      <th></th>\n",
       "      <th>5%</th>\n",
       "      <th>50%</th>\n",
       "      <th>95%</th>\n",
       "    </tr>\n",
       "    <tr>\n",
       "      <th>metric</th>\n",
       "      <th></th>\n",
       "      <th></th>\n",
       "      <th></th>\n",
       "    </tr>\n",
       "  </thead>\n",
       "  <tbody>\n",
       "    <tr>\n",
       "      <th>root_mean_squared_error</th>\n",
       "      <td>0.58</td>\n",
       "      <td>0.62</td>\n",
       "      <td>0.66</td>\n",
       "    </tr>\n",
       "    <tr>\n",
       "      <th>median_absolute_error</th>\n",
       "      <td>0.31</td>\n",
       "      <td>0.31</td>\n",
       "      <td>0.32</td>\n",
       "    </tr>\n",
       "    <tr>\n",
       "      <th>r2_score</th>\n",
       "      <td>0.42</td>\n",
       "      <td>0.46</td>\n",
       "      <td>0.50</td>\n",
       "    </tr>\n",
       "    <tr>\n",
       "      <th>mean_absolute_error</th>\n",
       "      <td>0.42</td>\n",
       "      <td>0.43</td>\n",
       "      <td>0.45</td>\n",
       "    </tr>\n",
       "    <tr>\n",
       "      <th>gsd_squared</th>\n",
       "      <td>14.64</td>\n",
       "      <td>17.73</td>\n",
       "      <td>20.81</td>\n",
       "    </tr>\n",
       "  </tbody>\n",
       "</table>\n",
       "</div>"
      ],
      "text/plain": [
       "                            5%    50%    95%\n",
       "metric                                      \n",
       "root_mean_squared_error   0.58   0.62   0.66\n",
       "median_absolute_error     0.31   0.31   0.32\n",
       "r2_score                  0.42   0.46   0.50\n",
       "mean_absolute_error       0.42   0.43   0.45\n",
       "gsd_squared              14.64  17.73  20.81"
      ]
     },
     "execution_count": 7,
     "metadata": {},
     "output_type": "execute_result"
    }
   ],
   "source": [
    "describe_result('repro_dev', 'performances')"
   ]
  },
  {
   "cell_type": "code",
   "execution_count": 8,
   "id": "ecc3208e",
   "metadata": {},
   "outputs": [],
   "source": [
    "important_features = {}\n",
    "\n",
    "for effect in key_for_effect:\n",
    "    \n",
    "    important_features[effect] = set(results_analyzer.get_important_features(get_model_key(effect)))"
   ]
  },
  {
   "cell_type": "code",
   "execution_count": 9,
   "id": "da3c9ab4",
   "metadata": {},
   "outputs": [
    {
     "data": {
      "text/plain": [
       "{'CATMoS_LD50_pred',\n",
       " 'CombDipolPolariz',\n",
       " 'FUB_pred',\n",
       " 'Koc_pred',\n",
       " 'MolWeight',\n",
       " 'ReadyBiodeg_pred_discrete'}"
      ]
     },
     "execution_count": 9,
     "metadata": {},
     "output_type": "execute_result"
    }
   ],
   "source": [
    "important_features['general'].intersection(important_features['repro_dev'])"
   ]
  },
  {
   "cell_type": "code",
   "execution_count": 10,
   "id": "c5c2d96b",
   "metadata": {},
   "outputs": [
    {
     "data": {
      "text/plain": [
       "{'BCF_pred', 'MP_pred', 'WS_pred', 'ndHBdDon_discrete'}"
      ]
     },
     "execution_count": 10,
     "metadata": {},
     "output_type": "execute_result"
    }
   ],
   "source": [
    "important_features['general'].difference(important_features['repro_dev'])"
   ]
  },
  {
   "cell_type": "code",
   "execution_count": 11,
   "id": "bd7ec213",
   "metadata": {},
   "outputs": [
    {
     "data": {
      "text/plain": [
       "{'KM_pred', 'KOA_pred', 'Sp3Sp2HybRatio', 'nbRotBd_discrete'}"
      ]
     },
     "execution_count": 11,
     "metadata": {},
     "output_type": "execute_result"
    }
   ],
   "source": [
    "important_features['repro_dev'].difference(important_features['general'])"
   ]
  },
  {
   "cell_type": "markdown",
   "id": "f78cb339",
   "metadata": {},
   "source": [
    "## Sensitivity Analysis"
   ]
  },
  {
   "cell_type": "code",
   "execution_count": null,
   "id": "57c6f7f2",
   "metadata": {},
   "outputs": [],
   "source": []
  },
  {
   "cell_type": "markdown",
   "id": "39ca3bf0",
   "metadata": {},
   "source": [
    "## Model Application"
   ]
  },
  {
   "cell_type": "markdown",
   "id": "2004d046",
   "metadata": {},
   "source": [
    "### POD cumulative frequencies"
   ]
  },
  {
   "cell_type": "code",
   "execution_count": 12,
   "id": "b88f8331",
   "metadata": {},
   "outputs": [],
   "source": [
    "pod_data = {\n",
    "    effect : results_analyzer.pod_and_prediction_interval(\n",
    "        get_model_key(effect),\n",
    "        inverse_transform=True, \n",
    "        normalize=True\n",
    "    )\n",
    "    for effect in key_for_effect\n",
    "}"
   ]
  },
  {
   "cell_type": "code",
   "execution_count": 13,
   "id": "97315f88",
   "metadata": {},
   "outputs": [
    {
     "data": {
      "text/plain": [
       "pod      8.101502\n",
       "lb       0.543556\n",
       "ub     120.749911\n",
       "Name: 0.5, dtype: float64"
      ]
     },
     "execution_count": 13,
     "metadata": {},
     "output_type": "execute_result"
    }
   ],
   "source": [
    "pod_data['general'].set_index('cum_freq').loc[0.5]"
   ]
  },
  {
   "cell_type": "code",
   "execution_count": 14,
   "id": "e02a6a75",
   "metadata": {},
   "outputs": [
    {
     "data": {
      "text/plain": [
       "pod     26.407970\n",
       "lb       2.521005\n",
       "ub     276.628112\n",
       "Name: 0.5, dtype: float64"
      ]
     },
     "execution_count": 14,
     "metadata": {},
     "output_type": "execute_result"
    }
   ],
   "source": [
    "pod_data['repro_dev'].set_index('cum_freq').loc[0.5]"
   ]
  },
  {
   "cell_type": "markdown",
   "id": "1e18b52e",
   "metadata": {},
   "source": [
    "### Compare POD estimates (benchmarking)"
   ]
  },
  {
   "cell_type": "code",
   "execution_count": 15,
   "id": "8a1c7edb",
   "metadata": {},
   "outputs": [
    {
     "data": {
      "text/html": [
       "<div>\n",
       "<style scoped>\n",
       "    .dataframe tbody tr th:only-of-type {\n",
       "        vertical-align: middle;\n",
       "    }\n",
       "\n",
       "    .dataframe tbody tr th {\n",
       "        vertical-align: top;\n",
       "    }\n",
       "\n",
       "    .dataframe thead th {\n",
       "        text-align: right;\n",
       "    }\n",
       "</style>\n",
       "<table border=\"1\" class=\"dataframe\">\n",
       "  <thead>\n",
       "    <tr style=\"text-align: right;\">\n",
       "      <th></th>\n",
       "      <th>Authoritative</th>\n",
       "      <th>ToxValDB</th>\n",
       "      <th>QSAR</th>\n",
       "    </tr>\n",
       "  </thead>\n",
       "  <tbody>\n",
       "    <tr>\n",
       "      <th>0.05</th>\n",
       "      <td>0.0</td>\n",
       "      <td>0.5</td>\n",
       "      <td>0.3</td>\n",
       "    </tr>\n",
       "    <tr>\n",
       "      <th>0.50</th>\n",
       "      <td>4.4</td>\n",
       "      <td>12.5</td>\n",
       "      <td>12.8</td>\n",
       "    </tr>\n",
       "    <tr>\n",
       "      <th>0.95</th>\n",
       "      <td>212.8</td>\n",
       "      <td>184.4</td>\n",
       "      <td>268.6</td>\n",
       "    </tr>\n",
       "  </tbody>\n",
       "</table>\n",
       "</div>"
      ],
      "text/plain": [
       "      Authoritative  ToxValDB   QSAR\n",
       "0.05            0.0       0.5    0.3\n",
       "0.50            4.4      12.5   12.8\n",
       "0.95          212.8     184.4  268.6"
      ]
     },
     "execution_count": 15,
     "metadata": {},
     "output_type": "execute_result"
    }
   ],
   "source": [
    "pod_comparison_data = {\n",
    "    effect : results_analyzer.get_pod_comparison_data(get_model_key(effect)) \n",
    "    for effect in key_for_effect\n",
    "}\n",
    "\n",
    "# Inverse transform the PODs from log10\n",
    "(10**pd.DataFrame(pod_comparison_data['general']).quantile(percentiles)).round(1)"
   ]
  },
  {
   "cell_type": "code",
   "execution_count": 16,
   "id": "95dd63c4",
   "metadata": {},
   "outputs": [
    {
     "data": {
      "text/html": [
       "<div>\n",
       "<style scoped>\n",
       "    .dataframe tbody tr th:only-of-type {\n",
       "        vertical-align: middle;\n",
       "    }\n",
       "\n",
       "    .dataframe tbody tr th {\n",
       "        vertical-align: top;\n",
       "    }\n",
       "\n",
       "    .dataframe thead th {\n",
       "        text-align: right;\n",
       "    }\n",
       "</style>\n",
       "<table border=\"1\" class=\"dataframe\">\n",
       "  <thead>\n",
       "    <tr style=\"text-align: right;\">\n",
       "      <th></th>\n",
       "      <th>Authoritative</th>\n",
       "      <th>ToxValDB</th>\n",
       "      <th>QSAR</th>\n",
       "    </tr>\n",
       "  </thead>\n",
       "  <tbody>\n",
       "    <tr>\n",
       "      <th>0.05</th>\n",
       "      <td>0.1</td>\n",
       "      <td>2.0</td>\n",
       "      <td>1.1</td>\n",
       "    </tr>\n",
       "    <tr>\n",
       "      <th>0.50</th>\n",
       "      <td>4.3</td>\n",
       "      <td>45.7</td>\n",
       "      <td>49.0</td>\n",
       "    </tr>\n",
       "    <tr>\n",
       "      <th>0.95</th>\n",
       "      <td>93.1</td>\n",
       "      <td>242.9</td>\n",
       "      <td>331.8</td>\n",
       "    </tr>\n",
       "  </tbody>\n",
       "</table>\n",
       "</div>"
      ],
      "text/plain": [
       "      Authoritative  ToxValDB   QSAR\n",
       "0.05            0.1       2.0    1.1\n",
       "0.50            4.3      45.7   49.0\n",
       "0.95           93.1     242.9  331.8"
      ]
     },
     "execution_count": 16,
     "metadata": {},
     "output_type": "execute_result"
    }
   ],
   "source": [
    "(10**pd.DataFrame(pod_comparison_data['repro_dev']).quantile(percentiles)).round(1)"
   ]
  },
  {
   "cell_type": "markdown",
   "id": "2af68796",
   "metadata": {},
   "source": [
    "### Margins of exposure with cumulative counts"
   ]
  },
  {
   "cell_type": "code",
   "execution_count": 17,
   "id": "eb17a83c",
   "metadata": {},
   "outputs": [
    {
     "name": "stdout",
     "output_type": "stream",
     "text": [
      "For general effects:\n",
      "\t5140 chemicals potential_concern\n",
      "\t770 chemicals definite_concern\n",
      "For repro_dev effects:\n",
      "\t2740 chemicals potential_concern\n",
      "\t310 chemicals definite_concern\n"
     ]
    }
   ],
   "source": [
    "# Get the upper bounds of the MOE concern categories\n",
    "thres_for_concern = {\n",
    "    k.lower().replace(' ', '_') : bounds[-1] \n",
    "    for k, bounds in MOE_CATEGORIES.items()\n",
    "}\n",
    "\n",
    "for effect in key_for_effect:\n",
    "    print(f'For {effect} effects:')\n",
    "\n",
    "    results_for_percentile = results_analyzer.moe_and_prediction_intervals(get_model_key(effect))\n",
    "\n",
    "    # Get the upper bound of exposure uncertainty\n",
    "    ub_exposure_results = results_for_percentile['95th percentile (mg/kg/day)']\n",
    "    # Get MOEs for the lower bound of the POD prediction interval\n",
    "    moes = ub_exposure_results['lb']\n",
    "\n",
    "    for concern, concern_threshold in thres_for_concern.items():\n",
    "        where_potential_concern = moes <= concern_threshold\n",
    "        concern_count = ub_exposure_results.loc[where_potential_concern]['cum_count'][-1]\n",
    "        print(f'\\t{round(concern_count, -1)} chemicals {concern}')"
   ]
  },
  {
   "cell_type": "code",
   "execution_count": 18,
   "id": "4d55beff",
   "metadata": {},
   "outputs": [
    {
     "name": "stdout",
     "output_type": "stream",
     "text": [
      "Typical exposure uncertainty: 4 log10-units\n"
     ]
    }
   ],
   "source": [
    "exposure_df = data_manager.load_exposure_data()\n",
    "\n",
    "exposure_difference = (\n",
    "    exposure_df['95th percentile (mg/kg/day)'] \n",
    "    - exposure_df['5th percentile (mg/kg/day)']\n",
    ")\n",
    "\n",
    "typical_uncertainty = exposure_difference.median()\n",
    "\n",
    "print(f'Typical exposure uncertainty: {round(typical_uncertainty)} log10-units')"
   ]
  },
  {
   "cell_type": "code",
   "execution_count": null,
   "id": "6aabdc47",
   "metadata": {},
   "outputs": [],
   "source": []
  }
 ],
 "metadata": {
  "kernelspec": {
   "display_name": "chiu-lab",
   "language": "python",
   "name": "chiu-lab"
  },
  "language_info": {
   "codemirror_mode": {
    "name": "ipython",
    "version": 3
   },
   "file_extension": ".py",
   "mimetype": "text/x-python",
   "name": "python",
   "nbconvert_exporter": "python",
   "pygments_lexer": "ipython3",
   "version": "3.11.0"
  }
 },
 "nbformat": 4,
 "nbformat_minor": 5
}
